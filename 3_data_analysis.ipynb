{
 "cells": [
  {
   "cell_type": "markdown",
   "metadata": {},
   "source": [
    "# Data analysis"
   ]
  },
  {
   "cell_type": "markdown",
   "metadata": {},
   "source": [
    "After collecting data, we can analyse information retrieved.\n",
    "\n",
    "For this exercise we will use the results we obtained from Exercise 1. \n",
    "\n",
    "<u>Note</u>: In case you did not manage to complete the first exercise, please find the dataset \"result_exercise_1.csv\" in *results* folder."
   ]
  },
  {
   "cell_type": "markdown",
   "metadata": {},
   "source": [
    "Based on geopolitical events, external demand or the need for data qulitity checks, we can design a plan for analysis of the data we are working on.\n",
    "\n",
    "This exercise simulates a scenario in which <b>a company is facing bankruptcy</b>, requiring us to conduct a financial market analysis to identify the most directly and indirectly <b>exposed companies</b>."
   ]
  },
  {
   "cell_type": "markdown",
   "metadata": {},
   "source": [
    "## Exercise 3"
   ]
  },
  {
   "cell_type": "markdown",
   "metadata": {},
   "source": [
    "Let's suppose company \"APPLE (UK) LIMITED\" (LEI: 549300QKDHYRRQH2MB86) is currently struggling, and we want to know which companies would be exposed in case of failure."
   ]
  },
  {
   "cell_type": "markdown",
   "metadata": {},
   "source": [
    "3.1 Retrieve the <b>LEIs</b>, the <b>legal names</b> and the <b>exposure amount</b> of the <b>holders companies</b>.\n",
    "\n",
    "3.2 Retrieve the <b>LEIs</b>, the <b>legal names</b> and the <b>exposure amount</b> of the <b>ultimate parent companies</b> of all the exposed children companies.\n",
    "\n",
    "<u>Note</u>: For the sake of simplicity, we will consider exposure amount to be the sum of individual holdings amounts."
   ]
  },
  {
   "cell_type": "code",
   "execution_count": null,
   "metadata": {},
   "outputs": [],
   "source": []
  }
 ],
 "metadata": {
  "kernelspec": {
   "display_name": "base",
   "language": "python",
   "name": "python3"
  },
  "language_info": {
   "codemirror_mode": {
    "name": "ipython",
    "version": 3
   },
   "file_extension": ".py",
   "mimetype": "text/x-python",
   "name": "python",
   "nbconvert_exporter": "python",
   "pygments_lexer": "ipython3",
   "version": "3.8.5"
  }
 },
 "nbformat": 4,
 "nbformat_minor": 2
}
