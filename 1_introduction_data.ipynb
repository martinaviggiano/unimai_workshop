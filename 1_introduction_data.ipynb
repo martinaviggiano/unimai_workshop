{
 "cells": [
  {
   "cell_type": "markdown",
   "metadata": {},
   "source": [
    "# Introduction on data"
   ]
  },
  {
   "cell_type": "markdown",
   "metadata": {},
   "source": [
    "In this exercise we combine issuances and holdings datasets, and we fetch legal entities Level 2 data using [GLEIF API](https://documenter.getpostman.com/view/7679680/SVYrrxuU?version=latest#40ef2ec4-b8bd-46de-8ad5-5359ed828242), to connect corporate dots and simulate a financial markets analysis on defaults. "
   ]
  },
  {
   "cell_type": "markdown",
   "metadata": {},
   "source": [
    "<u>NOTE</u>: The provided granular datasets *issuances.csv* and *holdings.csv* are composed of artificial data: the ISINs in the first datasets were randomly generated, and instruments were casually assigned to holder companies. We are pretending to own two datasets providing granular securities data on issuances and holdings perspective."
   ]
  },
  {
   "cell_type": "code",
   "execution_count": 1,
   "metadata": {},
   "outputs": [],
   "source": [
    "import pandas as pd"
   ]
  },
  {
   "cell_type": "code",
   "execution_count": 2,
   "metadata": {},
   "outputs": [],
   "source": [
    "issuances_df = pd.read_csv('issuances.csv', sep=';')\n",
    "holdings_df = pd.read_csv('holdings.csv')"
   ]
  },
  {
   "cell_type": "markdown",
   "metadata": {},
   "source": [
    "*issuances.csv* provides ISIN-by-ISIN information, i.e. for each security the following details are provided:\n",
    "- *isin*: the ID of the security;\n",
    "- *issue_date*: date of issuance;\n",
    "- *publication_price*: price of publication;\n",
    "- *volume*: number of outstanding amount of stock;\n",
    "- *market_capitalization*: market value of the company's outstanding amount of stock;\n",
    "- *issuer_lei*: the ID (LEI) of the issuer company.\n",
    "\n",
    "The Legal Entity Identifier (LEI) is a 20-character, alpha-numeric code based on the ISO 17442 standard developed by the International Organization for Standardization (ISO). [1]()"
   ]
  },
  {
   "cell_type": "code",
   "execution_count": 3,
   "metadata": {},
   "outputs": [
    {
     "data": {
      "text/html": [
       "<div>\n",
       "<style scoped>\n",
       "    .dataframe tbody tr th:only-of-type {\n",
       "        vertical-align: middle;\n",
       "    }\n",
       "\n",
       "    .dataframe tbody tr th {\n",
       "        vertical-align: top;\n",
       "    }\n",
       "\n",
       "    .dataframe thead th {\n",
       "        text-align: right;\n",
       "    }\n",
       "</style>\n",
       "<table border=\"1\" class=\"dataframe\">\n",
       "  <thead>\n",
       "    <tr style=\"text-align: right;\">\n",
       "      <th></th>\n",
       "      <th>isin</th>\n",
       "      <th>issue_date</th>\n",
       "      <th>publication_price</th>\n",
       "      <th>volume</th>\n",
       "      <th>market_capitalization</th>\n",
       "      <th>issuer_lei</th>\n",
       "    </tr>\n",
       "  </thead>\n",
       "  <tbody>\n",
       "    <tr>\n",
       "      <th>0</th>\n",
       "      <td>BY8418434092</td>\n",
       "      <td>02/08/2023</td>\n",
       "      <td>108.00</td>\n",
       "      <td>2259</td>\n",
       "      <td>243972.0</td>\n",
       "      <td>5493004QI6E3PJNCEB09</td>\n",
       "    </tr>\n",
       "    <tr>\n",
       "      <th>1</th>\n",
       "      <td>MK5864929728</td>\n",
       "      <td>13/02/2023</td>\n",
       "      <td>100.00</td>\n",
       "      <td>10</td>\n",
       "      <td>1000.0</td>\n",
       "      <td>635400SCBVV58JBVY513</td>\n",
       "    </tr>\n",
       "    <tr>\n",
       "      <th>2</th>\n",
       "      <td>EE6894244009</td>\n",
       "      <td>12/06/2020</td>\n",
       "      <td>98.00</td>\n",
       "      <td>2091</td>\n",
       "      <td>204918.0</td>\n",
       "      <td>549300PBHN7G23NA7J97</td>\n",
       "    </tr>\n",
       "    <tr>\n",
       "      <th>3</th>\n",
       "      <td>DK7859950600</td>\n",
       "      <td>05/01/2023</td>\n",
       "      <td>0.25</td>\n",
       "      <td>1020</td>\n",
       "      <td>255.0</td>\n",
       "      <td>5299000AF58N6DVTY088</td>\n",
       "    </tr>\n",
       "    <tr>\n",
       "      <th>4</th>\n",
       "      <td>IT6091559071</td>\n",
       "      <td>02/02/2022</td>\n",
       "      <td>53.00</td>\n",
       "      <td>2001</td>\n",
       "      <td>106053.0</td>\n",
       "      <td>549300MF6CNUB2URPE58</td>\n",
       "    </tr>\n",
       "  </tbody>\n",
       "</table>\n",
       "</div>"
      ],
      "text/plain": [
       "           isin  issue_date  publication_price  volume  market_capitalization  \\\n",
       "0  BY8418434092  02/08/2023             108.00    2259               243972.0   \n",
       "1  MK5864929728  13/02/2023             100.00      10                 1000.0   \n",
       "2  EE6894244009  12/06/2020              98.00    2091               204918.0   \n",
       "3  DK7859950600  05/01/2023               0.25    1020                  255.0   \n",
       "4  IT6091559071  02/02/2022              53.00    2001               106053.0   \n",
       "\n",
       "             issuer_lei  \n",
       "0  5493004QI6E3PJNCEB09  \n",
       "1  635400SCBVV58JBVY513  \n",
       "2  549300PBHN7G23NA7J97  \n",
       "3  5299000AF58N6DVTY088  \n",
       "4  549300MF6CNUB2URPE58  "
      ]
     },
     "execution_count": 3,
     "metadata": {},
     "output_type": "execute_result"
    }
   ],
   "source": [
    "issuances_df.head()"
   ]
  },
  {
   "cell_type": "markdown",
   "metadata": {},
   "source": [
    "*holdingd.csv* provides on information about who is holding what security:\n",
    "- *isin*: the ID of the security;\n",
    "- *holder_lei*: the ID (LEI) of the holder company"
   ]
  },
  {
   "cell_type": "code",
   "execution_count": 4,
   "metadata": {},
   "outputs": [
    {
     "data": {
      "text/html": [
       "<div>\n",
       "<style scoped>\n",
       "    .dataframe tbody tr th:only-of-type {\n",
       "        vertical-align: middle;\n",
       "    }\n",
       "\n",
       "    .dataframe tbody tr th {\n",
       "        vertical-align: top;\n",
       "    }\n",
       "\n",
       "    .dataframe thead th {\n",
       "        text-align: right;\n",
       "    }\n",
       "</style>\n",
       "<table border=\"1\" class=\"dataframe\">\n",
       "  <thead>\n",
       "    <tr style=\"text-align: right;\">\n",
       "      <th></th>\n",
       "      <th>isin</th>\n",
       "      <th>holder_lei</th>\n",
       "    </tr>\n",
       "  </thead>\n",
       "  <tbody>\n",
       "    <tr>\n",
       "      <th>0</th>\n",
       "      <td>SK4383059521</td>\n",
       "      <td>254900RGIHNSOOTM0L46</td>\n",
       "    </tr>\n",
       "    <tr>\n",
       "      <th>1</th>\n",
       "      <td>SK4383059521</td>\n",
       "      <td>2138006HP23N8GYS9Q88</td>\n",
       "    </tr>\n",
       "    <tr>\n",
       "      <th>2</th>\n",
       "      <td>SK4383059521</td>\n",
       "      <td>529900JYUND014UQ0P58</td>\n",
       "    </tr>\n",
       "    <tr>\n",
       "      <th>3</th>\n",
       "      <td>SK4383059521</td>\n",
       "      <td>549300M7R6X5LJOH0491</td>\n",
       "    </tr>\n",
       "    <tr>\n",
       "      <th>4</th>\n",
       "      <td>CH8229968527</td>\n",
       "      <td>254900WJJF84AQA4EN11</td>\n",
       "    </tr>\n",
       "  </tbody>\n",
       "</table>\n",
       "</div>"
      ],
      "text/plain": [
       "           isin            holder_lei\n",
       "0  SK4383059521  254900RGIHNSOOTM0L46\n",
       "1  SK4383059521  2138006HP23N8GYS9Q88\n",
       "2  SK4383059521  529900JYUND014UQ0P58\n",
       "3  SK4383059521  549300M7R6X5LJOH0491\n",
       "4  CH8229968527  254900WJJF84AQA4EN11"
      ]
     },
     "execution_count": 4,
     "metadata": {},
     "output_type": "execute_result"
    }
   ],
   "source": [
    "holdings_df.head()"
   ]
  },
  {
   "cell_type": "markdown",
   "metadata": {},
   "source": [
    "The two datasets point to two different aspects of financial market, and if we join them, we can have a broader perspective on the market.\n",
    "\n",
    "If we can merge them based on the *ISIN*, we can observe if from securities point of view: given one security, we can find information on the issuer and the holder of that security. \n",
    "\n",
    "We could also join based on company (i.e. *issuer_lei* on *holder_lei*) to see whether an issuer company is also a holder of securities issued by another company."
   ]
  },
  {
   "cell_type": "markdown",
   "metadata": {},
   "source": [
    "## Companies data"
   ]
  },
  {
   "cell_type": "markdown",
   "metadata": {},
   "source": [
    "### Level 1 Data"
   ]
  },
  {
   "cell_type": "markdown",
   "metadata": {},
   "source": [
    "While various instrument details are available, no details on companies were provided. To collect them, we can use [GLEIF API](https://documenter.getpostman.com/view/7679680/SVYrrxuU?version=latest#40ef2ec4-b8bd-46de-8ad5-5359ed828242).\n",
    "\n",
    "The GLEIF API gives developers access to full LEI Data search engine functionality, including filters, full-text and single-field searches of Level 1 (LEI Record) Data, retrieval of LEI Records (including links to their Level 2 data, where available), based on a search of their associated Level 2 (relationship) data, and \"fuzzy\" matching of important data fields such as names and addresses.\n",
    "\n",
    "Requests are HTTP REST calls, following the JSON API specification. [2]()"
   ]
  },
  {
   "cell_type": "code",
   "execution_count": 5,
   "metadata": {},
   "outputs": [],
   "source": [
    "import requests"
   ]
  },
  {
   "cell_type": "markdown",
   "metadata": {},
   "source": [
    "To get the entity details we are looking for, we just need the LEI of the company."
   ]
  },
  {
   "cell_type": "code",
   "execution_count": 6,
   "metadata": {},
   "outputs": [],
   "source": [
    "session = requests.Session()\n",
    "url = \"https://api.gleif.org/api/v1/lei-records/\""
   ]
  },
  {
   "cell_type": "code",
   "execution_count": 7,
   "metadata": {},
   "outputs": [],
   "source": [
    "session_json = session.get(url , headers={\"Accept\": \"application/vnd.api+json\"})\n",
    "#session_json.json()"
   ]
  },
  {
   "cell_type": "markdown",
   "metadata": {},
   "source": [
    "Let's suppose we want to know the <b> name</b> and <b>legal address country</b> of one company, for example *Intesa San Paolo SPA*. First we need a parameter to use for the searching: the best choice is to use LEI, since is represents an unique identifier. If we do not know the LEI of a specific entity, we can use the [LEI search functionality of GLEIF](https://search.gleif.org/#/search/).\n",
    "\n",
    "Information can be scraped in two ways: calling node by node in the json structure, or referencing to the specific LEI directly in the URL. In this case we can call the specific entity by adding a new component to the base URL, i.e. the LEI \"2W8N8UU78PMDQKZENC08\"."
   ]
  },
  {
   "cell_type": "code",
   "execution_count": 8,
   "metadata": {},
   "outputs": [],
   "source": [
    "url_isp = url + \"8156008F4B12928FDE93\"\n",
    "session_response = session.get(url_isp, headers={\"Accept\": \"application/vnd.api+json\"})"
   ]
  },
  {
   "cell_type": "code",
   "execution_count": 9,
   "metadata": {},
   "outputs": [
    {
     "data": {
      "text/plain": [
       "'FAI PROGETTO ITALIA II'"
      ]
     },
     "execution_count": 9,
     "metadata": {},
     "output_type": "execute_result"
    }
   ],
   "source": [
    "session_response.json()[\"data\"][\"attributes\"][\"entity\"][\"legalName\"][\"name\"]"
   ]
  },
  {
   "cell_type": "code",
   "execution_count": 10,
   "metadata": {},
   "outputs": [
    {
     "data": {
      "text/plain": [
       "'IT'"
      ]
     },
     "execution_count": 10,
     "metadata": {},
     "output_type": "execute_result"
    }
   ],
   "source": [
    "session_response.json()[\"data\"][\"attributes\"][\"entity\"][\"legalAddress\"][\"country\"]"
   ]
  },
  {
   "cell_type": "markdown",
   "metadata": {},
   "source": [
    "### Level 2 Data"
   ]
  },
  {
   "cell_type": "markdown",
   "metadata": {},
   "source": [
    "When working with finacial corporate data, it is necessary also to piece together the \"corporate dots\", i.e. take into consideration"
   ]
  },
  {
   "cell_type": "markdown",
   "metadata": {},
   "source": [
    "LEI data pool includes also the \"Level 2\" data that answers the question of \"who owns whom?\". Specifically, legal entities that have or acquire an LEI report their \"direct accounting consolidating parent\" as well as their \"ultimate accounting consolidating parent\". [3]()"
   ]
  },
  {
   "cell_type": "markdown",
   "metadata": {},
   "source": [
    "<img src=\"images/level-2-parents-and-children.png\" alt=\"Level 2 Data - Legal Entities Structure\" style=\"width: 400px;\"/>"
   ]
  },
  {
   "cell_type": "markdown",
   "metadata": {},
   "source": [
    "To retreive data of direct or ultimate relationships (i.e. parent or child), you can enrich the url used in the get request."
   ]
  },
  {
   "cell_type": "code",
   "execution_count": 11,
   "metadata": {},
   "outputs": [],
   "source": [
    "company_lei = \"2W8N8UU78PMDQKZENC08\"\n",
    "direct_childen = url + company_lei + \"/direct-children\"\n",
    "ultimate_childen = url + company_lei + \"/ultimate-children\""
   ]
  },
  {
   "cell_type": "code",
   "execution_count": 12,
   "metadata": {},
   "outputs": [],
   "source": [
    "session_response_direct_children = session.get(direct_childen, headers={\"Accept\": \"application/vnd.api+json\"})\n",
    "#session_response_direct_children.json()"
   ]
  },
  {
   "cell_type": "markdown",
   "metadata": {},
   "source": [
    "Let's suppose we want to know the <b>direct children</b> of company *Intesa San Paolo SPA* (we will ignore possible ultimate children for this example)."
   ]
  },
  {
   "cell_type": "code",
   "execution_count": 13,
   "metadata": {},
   "outputs": [],
   "source": [
    "direct_children_isp = []\n",
    "i=0\n",
    "for item in session_response_direct_children.json()[\"data\"]:\n",
    "    i+=1\n",
    "    item_lei = item['id']\n",
    "    item_legal_name = item['attributes']['entity']['legalName']['name']\n",
    "    direct_children_isp.append((i, item_lei, item_legal_name))"
   ]
  },
  {
   "cell_type": "code",
   "execution_count": 14,
   "metadata": {},
   "outputs": [
    {
     "data": {
      "text/plain": [
       "[(1, '8156003F461C3D10B315', 'ACANTUS S.P.A.'),\n",
       " (2, '815600EC178EEE69E481', 'EXETRA S.P.A.'),\n",
       " (3,\n",
       "  '789000XDPJFDGEU86P31',\n",
       "  'INTESA SANPAOLO SPA İTALYA İSTANBUL MERKEZ ŞUBESİ'),\n",
       " (4, '8156001ABCDB9E7C7705', 'PRESTITALIA S.P.A.'),\n",
       " (5, '222100VKE4U77H2IDP03', 'PRIVATE EQUITY INTERNATIONAL S.A.'),\n",
       " (6, '549300DR61OKD1UKCK14', 'FONDO PENSIONE DIPENDENTI EX CARIPRATO'),\n",
       " (7, '222100D7KSQ22ZVMKM20', 'GAP MANCO'),\n",
       " (8, '213800CBOERFQH934Q10', 'INTESA SANPAOLO BRASIL S.A. - BANCO MULTIPLO'),\n",
       " (9, '2221001BQYKCFUQGX885', 'INTESA SANPAOLO SEC SA'),\n",
       " (10, '222100ECVDB4RTLS8E02', 'IMI INVESTMENTS S.A.'),\n",
       " (11, '5493006UY56V4KORVP94', 'BANCA COMERCIALĂ “EXIMBANK” S.A.'),\n",
       " (12, '54930009CCENXT9WTF32', 'INTESA SANPAOLO BANK ALBANIA'),\n",
       " (13, '5493002D2LSSUA5KUB24', 'AlexBank'),\n",
       " (14, '5493001XF6EC2NJXK304', 'BANCA INTESA AKCIONARSKO DRUSTVO BEOGRAD'),\n",
       " (15,\n",
       "  '815600D20361C46B7C65',\n",
       "  'INTESA SANPAOLO RE.O.CO. S.P.A. O BREVEMENTE REOCO S.P.A.')]"
      ]
     },
     "execution_count": 14,
     "metadata": {},
     "output_type": "execute_result"
    }
   ],
   "source": [
    "direct_children_isp"
   ]
  },
  {
   "cell_type": "markdown",
   "metadata": {},
   "source": [
    "The above result shows a list of 15 entities, but we know that *Intesa San Paolo SPA* has 31 direct children (see [here](https://search.gleif.org/#/record/2W8N8UU78PMDQKZENC08)). In fact, search results in GLEIF API response can be paginated, if the number of returned items is above 15, like in the presented case.\n",
    "\n",
    "To handle the pagination, we could first analyse the structure of the response. \"links\" node contains \"first\", \"next\", and \"last\", corresponding to the links to first, last, and next page. When results are paginated, we would find them all, while you would see no \"next\" if no next page is available. Besides, also in \"meta\" node we can find information about pages, such how many pages are available for this request, and what number is the currently presented page.\n",
    "\n",
    "Based on this, we could integrate the above loop with a condition interating on pages."
   ]
  },
  {
   "cell_type": "code",
   "execution_count": 15,
   "metadata": {},
   "outputs": [],
   "source": [
    "def parse_response(response):\n",
    "    result = []\n",
    "    for item in response.json()[\"data\"]:\n",
    "        id_item = item[\"id\"]\n",
    "        legal_name = item[\"attributes\"][\"entity\"][\"legalName\"][\"name\"]\n",
    "        legal_country = item[\"attributes\"][\"entity\"][\"legalAddress\"][\"country\"]\n",
    "        result.append((id_item, legal_name, legal_country))\n",
    "    return result"
   ]
  },
  {
   "cell_type": "code",
   "execution_count": 16,
   "metadata": {},
   "outputs": [],
   "source": [
    "def get_leis(parent_company, relationship):\n",
    "    initial_url = url + parent_company + \"/\" + relationship\n",
    "    response = session.get(initial_url, headers={\"Accept\": \"application/vnd.api+json\"})\n",
    "    result = parse_response(response)\n",
    "    while \"next\" in response.json()[\"links\"]:\n",
    "        next_url = response.json()[\"links\"][\"next\"]\n",
    "        response = session.get(next_url, headers={\"Accept\": \"application/vnd.api+json\"})\n",
    "        next_result = parse_response(response=response)\n",
    "        result.extend(next_result)\n",
    "\n",
    "        if response.json()[\"meta\"][\"pagination\"][\"currentPage\"] == response.json()[\"meta\"][\"pagination\"][\"lastPage\"]:\n",
    "            break\n",
    "    return result"
   ]
  },
  {
   "cell_type": "code",
   "execution_count": 17,
   "metadata": {},
   "outputs": [],
   "source": [
    "company_lei = \"2W8N8UU78PMDQKZENC08\"\n",
    "direct_children = \"direct-children\""
   ]
  },
  {
   "cell_type": "code",
   "execution_count": 18,
   "metadata": {},
   "outputs": [
    {
     "data": {
      "text/plain": [
       "31"
      ]
     },
     "execution_count": 18,
     "metadata": {},
     "output_type": "execute_result"
    }
   ],
   "source": [
    "len(get_leis(company_lei, direct_children))"
   ]
  },
  {
   "cell_type": "markdown",
   "metadata": {},
   "source": [
    "## Exercise 1 "
   ]
  },
  {
   "cell_type": "markdown",
   "metadata": {},
   "source": [
    "Retrieve the <b>legal address name</b>, the residence <b>country</b> and the <b>ultimate parent</b> of all companies present in the provided datasets (*issuances.csv* and *holdings.csv*), and store them in a dataframe."
   ]
  },
  {
   "cell_type": "code",
   "execution_count": null,
   "metadata": {},
   "outputs": [],
   "source": []
  },
  {
   "cell_type": "code",
   "execution_count": null,
   "metadata": {},
   "outputs": [],
   "source": []
  },
  {
   "cell_type": "markdown",
   "metadata": {},
   "source": [
    "References:\n",
    "- [1]() Introducing the Legal Entity Identifier (LEI) [https://www.gleif.org/en/about-lei/introducing-the-legal-entity-identifier-lei](https://www.gleif.org/en/about-lei/introducing-the-legal-entity-identifier-lei)\n",
    "- [2]() GLEIF API Introduction [https://documenter.getpostman.com/view/7679680/SVYrrxuU?version=latest#intro](https://documenter.getpostman.com/view/7679680/SVYrrxuU?version=latest#intro)\n",
    "- [3]() Level 2 Data: Who Owns whom [https://www.gleif.org/en/lei-data/access-and-use-lei-data/level-2-data-who-owns-whom#](https://www.gleif.org/en/lei-data/access-and-use-lei-data/level-2-data-who-owns-whom#)"
   ]
  },
  {
   "cell_type": "markdown",
   "metadata": {},
   "source": []
  }
 ],
 "metadata": {
  "kernelspec": {
   "display_name": "base",
   "language": "python",
   "name": "python3"
  },
  "language_info": {
   "codemirror_mode": {
    "name": "ipython",
    "version": 3
   },
   "file_extension": ".py",
   "mimetype": "text/x-python",
   "name": "python",
   "nbconvert_exporter": "python",
   "pygments_lexer": "ipython3",
   "version": "3.8.5"
  }
 },
 "nbformat": 4,
 "nbformat_minor": 2
}
