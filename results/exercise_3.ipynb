{
 "cells": [
  {
   "cell_type": "markdown",
   "metadata": {},
   "source": [
    "# Exercise 3"
   ]
  },
  {
   "cell_type": "markdown",
   "metadata": {},
   "source": [
    "Let's suppose company \"APPLE (UK) LIMITED\" (LEI: 549300QKDHYRRQH2MB86) is currently struggling, and we want to know which companies would be exposed in case of failure."
   ]
  },
  {
   "cell_type": "code",
   "execution_count": 1,
   "metadata": {},
   "outputs": [],
   "source": [
    "import pandas as pd"
   ]
  },
  {
   "cell_type": "code",
   "execution_count": 2,
   "metadata": {},
   "outputs": [],
   "source": [
    "companies_data = pd.read_csv(\"result_exercise_1.csv\")\n",
    "holdings_data = pd.read_csv(\"../data/holdings.csv\", sep=\";\")\n",
    "issuances_data = pd.read_csv(\"../data/issuances.csv\", sep=\";\")"
   ]
  },
  {
   "cell_type": "code",
   "execution_count": 3,
   "metadata": {},
   "outputs": [],
   "source": [
    "issuances_holders = issuances_data.merge(holdings_data, on='isin')\n",
    "merged_issuances = issuances_holders.merge(companies_data, how=\"left\", left_on=['holder_lei'], right_on=['child_lei'])"
   ]
  },
  {
   "cell_type": "code",
   "execution_count": 4,
   "metadata": {},
   "outputs": [],
   "source": [
    "exp_parents_df = merged_issuances.loc[merged_issuances[\"issuer_lei\"]==\"549300QKDHYRRQH2MB86\"]"
   ]
  },
  {
   "cell_type": "code",
   "execution_count": 5,
   "metadata": {},
   "outputs": [
    {
     "name": "stderr",
     "output_type": "stream",
     "text": [
      "<ipython-input-5-15a4c3ee75e8>:1: SettingWithCopyWarning: \n",
      "A value is trying to be set on a copy of a slice from a DataFrame.\n",
      "Try using .loc[row_indexer,col_indexer] = value instead\n",
      "\n",
      "See the caveats in the documentation: https://pandas.pydata.org/pandas-docs/stable/user_guide/indexing.html#returning-a-view-versus-a-copy\n",
      "  exp_parents_df['market_capitalization'] = exp_parents_df['market_capitalization'].astype('int64')\n"
     ]
    }
   ],
   "source": [
    "exp_parents_df['market_capitalization'] = exp_parents_df['market_capitalization'].astype('int64')"
   ]
  },
  {
   "cell_type": "markdown",
   "metadata": {},
   "source": [
    "3.1 Retrieve the <b>LEIs</b>, the <b>legal names</b> and the <b>exposure amount</b> of the directly exposed <b>holders companies</b>."
   ]
  },
  {
   "cell_type": "code",
   "execution_count": 6,
   "metadata": {},
   "outputs": [
    {
     "data": {
      "text/html": [
       "<div>\n",
       "<style scoped>\n",
       "    .dataframe tbody tr th:only-of-type {\n",
       "        vertical-align: middle;\n",
       "    }\n",
       "\n",
       "    .dataframe tbody tr th {\n",
       "        vertical-align: top;\n",
       "    }\n",
       "\n",
       "    .dataframe thead th {\n",
       "        text-align: right;\n",
       "    }\n",
       "</style>\n",
       "<table border=\"1\" class=\"dataframe\">\n",
       "  <thead>\n",
       "    <tr style=\"text-align: right;\">\n",
       "      <th></th>\n",
       "      <th>child_name</th>\n",
       "      <th>market_capitalization</th>\n",
       "    </tr>\n",
       "  </thead>\n",
       "  <tbody>\n",
       "    <tr>\n",
       "      <th>485</th>\n",
       "      <td>LUFTHANSA TECHNIK SOFIA</td>\n",
       "      <td>245079305</td>\n",
       "    </tr>\n",
       "    <tr>\n",
       "      <th>231</th>\n",
       "      <td>UNILEVER ISRAEL FOODS LTD</td>\n",
       "      <td>31437257</td>\n",
       "    </tr>\n",
       "    <tr>\n",
       "      <th>164</th>\n",
       "      <td>MERVE OPTİK SANAYİ VE TİCARET ANONİM ŞİRK...</td>\n",
       "      <td>4503196</td>\n",
       "    </tr>\n",
       "    <tr>\n",
       "      <th>57</th>\n",
       "      <td>DBUK PCAM LIMITED</td>\n",
       "      <td>108750</td>\n",
       "    </tr>\n",
       "    <tr>\n",
       "      <th>488</th>\n",
       "      <td>DWS Secured Income Fund</td>\n",
       "      <td>10131</td>\n",
       "    </tr>\n",
       "    <tr>\n",
       "      <th>237</th>\n",
       "      <td>MIXHOLD B.V.</td>\n",
       "      <td>4380</td>\n",
       "    </tr>\n",
       "    <tr>\n",
       "      <th>109</th>\n",
       "      <td>Fineco Verwaltung AG</td>\n",
       "      <td>512</td>\n",
       "    </tr>\n",
       "    <tr>\n",
       "      <th>394</th>\n",
       "      <td>HISTRIA INVERSIONES DESIGNATED ACTIVITY COMPANY</td>\n",
       "      <td>473</td>\n",
       "    </tr>\n",
       "  </tbody>\n",
       "</table>\n",
       "</div>"
      ],
      "text/plain": [
       "                                            child_name  market_capitalization\n",
       "485                            LUFTHANSA TECHNIK SOFIA              245079305\n",
       "231                          UNILEVER ISRAEL FOODS LTD               31437257\n",
       "164  MERVE OPTİK SANAYİ VE TİCARET ANONİM ŞİRK...                4503196\n",
       "57                                   DBUK PCAM LIMITED                 108750\n",
       "488                            DWS Secured Income Fund                  10131\n",
       "237                                       MIXHOLD B.V.                   4380\n",
       "109                               Fineco Verwaltung AG                    512\n",
       "394    HISTRIA INVERSIONES DESIGNATED ACTIVITY COMPANY                    473"
      ]
     },
     "execution_count": 6,
     "metadata": {},
     "output_type": "execute_result"
    }
   ],
   "source": [
    "exp_parents_df[[\"child_name\", \"market_capitalization\"]].sort_values(by=['market_capitalization'], ascending=False)"
   ]
  },
  {
   "cell_type": "markdown",
   "metadata": {},
   "source": [
    "3.2 Retrieve the <b>LEIs</b>, the <b>legal names</b> and the <b>exposure amount</b> of the indirectly exposed <b>ultimate parent companies</b> of all the exposed children companies."
   ]
  },
  {
   "cell_type": "code",
   "execution_count": 7,
   "metadata": {},
   "outputs": [
    {
     "data": {
      "text/html": [
       "<div>\n",
       "<style scoped>\n",
       "    .dataframe tbody tr th:only-of-type {\n",
       "        vertical-align: middle;\n",
       "    }\n",
       "\n",
       "    .dataframe tbody tr th {\n",
       "        vertical-align: top;\n",
       "    }\n",
       "\n",
       "    .dataframe thead th {\n",
       "        text-align: right;\n",
       "    }\n",
       "</style>\n",
       "<table border=\"1\" class=\"dataframe\">\n",
       "  <thead>\n",
       "    <tr style=\"text-align: right;\">\n",
       "      <th></th>\n",
       "      <th>parent_name</th>\n",
       "      <th>market_capitalization</th>\n",
       "    </tr>\n",
       "  </thead>\n",
       "  <tbody>\n",
       "    <tr>\n",
       "      <th>1</th>\n",
       "      <td>Deutsche Lufthansa Aktiengesellschaft</td>\n",
       "      <td>245079305</td>\n",
       "    </tr>\n",
       "    <tr>\n",
       "      <th>4</th>\n",
       "      <td>UNILEVER PLC</td>\n",
       "      <td>31441637</td>\n",
       "    </tr>\n",
       "    <tr>\n",
       "      <th>2</th>\n",
       "      <td>ESSILORLUXOTTICA</td>\n",
       "      <td>4503196</td>\n",
       "    </tr>\n",
       "    <tr>\n",
       "      <th>0</th>\n",
       "      <td>DEUTSCHE BANK AKTIENGESELLSCHAFT</td>\n",
       "      <td>119354</td>\n",
       "    </tr>\n",
       "    <tr>\n",
       "      <th>3</th>\n",
       "      <td>UNICREDIT, SOCIETA' PER AZIONI</td>\n",
       "      <td>512</td>\n",
       "    </tr>\n",
       "  </tbody>\n",
       "</table>\n",
       "</div>"
      ],
      "text/plain": [
       "                             parent_name  market_capitalization\n",
       "1  Deutsche Lufthansa Aktiengesellschaft              245079305\n",
       "4                           UNILEVER PLC               31441637\n",
       "2                       ESSILORLUXOTTICA                4503196\n",
       "0       DEUTSCHE BANK AKTIENGESELLSCHAFT                 119354\n",
       "3         UNICREDIT, SOCIETA' PER AZIONI                    512"
      ]
     },
     "execution_count": 7,
     "metadata": {},
     "output_type": "execute_result"
    }
   ],
   "source": [
    "exp_parents_values = exp_parents_df.groupby(by=[\"parent_name\"], as_index=False)[\"market_capitalization\"].sum()\n",
    "exp_parents_values.sort_values(by=['market_capitalization'], ascending=False)"
   ]
  },
  {
   "cell_type": "code",
   "execution_count": null,
   "metadata": {},
   "outputs": [],
   "source": []
  }
 ],
 "metadata": {
  "kernelspec": {
   "display_name": "base",
   "language": "python",
   "name": "python3"
  },
  "language_info": {
   "codemirror_mode": {
    "name": "ipython",
    "version": 3
   },
   "file_extension": ".py",
   "mimetype": "text/x-python",
   "name": "python",
   "nbconvert_exporter": "python",
   "pygments_lexer": "ipython3",
   "version": "3.8.5"
  }
 },
 "nbformat": 4,
 "nbformat_minor": 2
}
