{
 "cells": [
  {
   "cell_type": "markdown",
   "metadata": {},
   "source": [
    "# Exercise 1"
   ]
  },
  {
   "cell_type": "markdown",
   "metadata": {},
   "source": [
    "Retrieve the <b>legal name</b>, the residence <b>country</b> and the <b>ultimate parent</b> (LEI and name) of all companies present in the provided datasets (*issuances.csv* and *holdings.csv*), and store them in a dataframe."
   ]
  },
  {
   "cell_type": "markdown",
   "metadata": {},
   "source": [
    "To structure the requests, please find \"lei-records\" endpoint details [GLEIF API](https://documenter.getpostman.com/view/7679680/SVYrrxuU?version=latest#5fc83577-f5ae-41fa-aa4e-2848554958b4)."
   ]
  },
  {
   "cell_type": "markdown",
   "metadata": {},
   "source": [
    "---"
   ]
  },
  {
   "cell_type": "code",
   "execution_count": 7,
   "metadata": {},
   "outputs": [],
   "source": [
    "import pandas as pd\n",
    "import requests\n",
    "session = requests.Session()"
   ]
  },
  {
   "cell_type": "code",
   "execution_count": 8,
   "metadata": {},
   "outputs": [],
   "source": [
    "issuances_df = pd.read_csv('../data/issuances.csv', sep=';')\n",
    "holdings_df = pd.read_csv('../data/holdings.csv', sep=\";\")\n",
    "url = \"https://api.gleif.org/api/v1/lei-records/\""
   ]
  },
  {
   "cell_type": "code",
   "execution_count": 9,
   "metadata": {},
   "outputs": [],
   "source": [
    "children_companies = list(set(holdings_df[\"holder_lei\"].values.tolist()))"
   ]
  },
  {
   "cell_type": "code",
   "execution_count": 10,
   "metadata": {},
   "outputs": [
    {
     "data": {
      "text/plain": [
       "402"
      ]
     },
     "execution_count": 10,
     "metadata": {},
     "output_type": "execute_result"
    }
   ],
   "source": [
    "len(children_companies)"
   ]
  },
  {
   "cell_type": "markdown",
   "metadata": {},
   "source": [
    "Since the GET request has a rate limiting (see [here](https://www.postman.com/planetary-moon-167465/workspace/is/collection/1849746-f4ede923-1a55-4b4d-a86d-5bb588e50298)), we need to use some tool to avoid getting the loop broken by an error. In fact, API providers constrain developers from making too many API calls, this may lead to your application to be be banned from making further API calls if it abuses these limits. In this case I decided to use a function decorator preventing a function from being called more often than that allowed by the API provider: [ratelimit](https://pypi.org/project/ratelimit/). [1]()"
   ]
  },
  {
   "cell_type": "code",
   "execution_count": 11,
   "metadata": {},
   "outputs": [],
   "source": [
    "from ratelimit import limits, sleep_and_retry\n",
    "\n",
    "# 60 calls per 60 seconds\n",
    "CALLS = 60\n",
    "RATE_LIMIT = 60\n",
    "\n",
    "@sleep_and_retry\n",
    "@limits(calls=CALLS, period=RATE_LIMIT)\n",
    "def check_limit():\n",
    "    ''' \n",
    "    Check number of calls to API in given period\n",
    "    '''\n",
    "    return"
   ]
  },
  {
   "cell_type": "code",
   "execution_count": 12,
   "metadata": {},
   "outputs": [],
   "source": [
    "result = []\n",
    "for child in children_companies:\n",
    "    check_limit()\n",
    "    response_child = session.get(url + child , headers={\"Accept\": \"application/vnd.api+json\"})\n",
    "    name = response_child.json()[\"data\"][\"attributes\"][\"entity\"][\"legalName\"][\"name\"]\n",
    "    country = response_child.json()[\"data\"][\"attributes\"][\"entity\"][\"legalAddress\"][\"country\"]\n",
    "    response_parent = session.get(url + child + \"/\" +  \"ultimate-parent\", headers={\"Accept\": \"application/vnd.api+json\"})\n",
    "    ultimate_parent_lei = response_parent.json()[\"data\"][\"id\"]\n",
    "    ultimate_parent_name = response_parent.json()[\"data\"][\"attributes\"][\"entity\"][\"legalName\"][\"name\"]\n",
    "    result.append((child, name, country, ultimate_parent_lei, ultimate_parent_name))\n"
   ]
  },
  {
   "cell_type": "code",
   "execution_count": 13,
   "metadata": {},
   "outputs": [],
   "source": [
    "result_df = pd.DataFrame(result, columns=[\"child_lei\", \"child_name\", \"child_country\", \"parent_lei\", \"parent_name\"])"
   ]
  },
  {
   "cell_type": "code",
   "execution_count": 14,
   "metadata": {},
   "outputs": [
    {
     "data": {
      "text/html": [
       "<div>\n",
       "<style scoped>\n",
       "    .dataframe tbody tr th:only-of-type {\n",
       "        vertical-align: middle;\n",
       "    }\n",
       "\n",
       "    .dataframe tbody tr th {\n",
       "        vertical-align: top;\n",
       "    }\n",
       "\n",
       "    .dataframe thead th {\n",
       "        text-align: right;\n",
       "    }\n",
       "</style>\n",
       "<table border=\"1\" class=\"dataframe\">\n",
       "  <thead>\n",
       "    <tr style=\"text-align: right;\">\n",
       "      <th></th>\n",
       "      <th>child_lei</th>\n",
       "      <th>child_name</th>\n",
       "      <th>child_country</th>\n",
       "      <th>parent_lei</th>\n",
       "      <th>parent_name</th>\n",
       "    </tr>\n",
       "  </thead>\n",
       "  <tbody>\n",
       "    <tr>\n",
       "      <th>0</th>\n",
       "      <td>549300HDCRTBPEURI316</td>\n",
       "      <td>UNILEVER ČR, spol. s r.o.</td>\n",
       "      <td>CZ</td>\n",
       "      <td>549300MKFYEKVRWML317</td>\n",
       "      <td>UNILEVER PLC</td>\n",
       "    </tr>\n",
       "    <tr>\n",
       "      <th>1</th>\n",
       "      <td>549300EF9ZLCS32PSN92</td>\n",
       "      <td>DEAM CAPITAL PROTECT 2019</td>\n",
       "      <td>DE</td>\n",
       "      <td>7LTWFZYICNSX8D621K86</td>\n",
       "      <td>DEUTSCHE BANK AKTIENGESELLSCHAFT</td>\n",
       "    </tr>\n",
       "    <tr>\n",
       "      <th>2</th>\n",
       "      <td>529900UUPS52ZOCZKF69</td>\n",
       "      <td>Deutsche Capital Partners China Limited</td>\n",
       "      <td>KY</td>\n",
       "      <td>7LTWFZYICNSX8D621K86</td>\n",
       "      <td>DEUTSCHE BANK AKTIENGESELLSCHAFT</td>\n",
       "    </tr>\n",
       "    <tr>\n",
       "      <th>3</th>\n",
       "      <td>549300L70BS183Y6ML67</td>\n",
       "      <td>DWS Investment S.A.</td>\n",
       "      <td>LU</td>\n",
       "      <td>7LTWFZYICNSX8D621K86</td>\n",
       "      <td>DEUTSCHE BANK AKTIENGESELLSCHAFT</td>\n",
       "    </tr>\n",
       "    <tr>\n",
       "      <th>4</th>\n",
       "      <td>549300SE1UII3HYCP132</td>\n",
       "      <td>MIXHOLD B.V.</td>\n",
       "      <td>NL</td>\n",
       "      <td>549300MKFYEKVRWML317</td>\n",
       "      <td>UNILEVER PLC</td>\n",
       "    </tr>\n",
       "    <tr>\n",
       "      <th>...</th>\n",
       "      <td>...</td>\n",
       "      <td>...</td>\n",
       "      <td>...</td>\n",
       "      <td>...</td>\n",
       "      <td>...</td>\n",
       "    </tr>\n",
       "    <tr>\n",
       "      <th>397</th>\n",
       "      <td>549300G0GSODGZH94Z69</td>\n",
       "      <td>VISION DIRECT EUROPE LTD</td>\n",
       "      <td>GB</td>\n",
       "      <td>549300M3VH1A3ER1TB49</td>\n",
       "      <td>ESSILORLUXOTTICA</td>\n",
       "    </tr>\n",
       "    <tr>\n",
       "      <th>398</th>\n",
       "      <td>5299000ALLPGKHTTUV74</td>\n",
       "      <td>Deutsche Bank Capital Trust I</td>\n",
       "      <td>US</td>\n",
       "      <td>7LTWFZYICNSX8D621K86</td>\n",
       "      <td>DEUTSCHE BANK AKTIENGESELLSCHAFT</td>\n",
       "    </tr>\n",
       "    <tr>\n",
       "      <th>399</th>\n",
       "      <td>3358007MD8NFWEKRC164</td>\n",
       "      <td>RAYBAN SUN OPTICS INDIA PRIVATE LIMITED</td>\n",
       "      <td>IN</td>\n",
       "      <td>549300M3VH1A3ER1TB49</td>\n",
       "      <td>ESSILORLUXOTTICA</td>\n",
       "    </tr>\n",
       "    <tr>\n",
       "      <th>400</th>\n",
       "      <td>5493002J445FKF3T3Q63</td>\n",
       "      <td>DWS INVEST - MULTI ASSET MODERATE INCOME</td>\n",
       "      <td>LU</td>\n",
       "      <td>7LTWFZYICNSX8D621K86</td>\n",
       "      <td>DEUTSCHE BANK AKTIENGESELLSCHAFT</td>\n",
       "    </tr>\n",
       "    <tr>\n",
       "      <th>401</th>\n",
       "      <td>529900X253XLINEUH028</td>\n",
       "      <td>Plantation Bay, Inc.</td>\n",
       "      <td>VI</td>\n",
       "      <td>7LTWFZYICNSX8D621K86</td>\n",
       "      <td>DEUTSCHE BANK AKTIENGESELLSCHAFT</td>\n",
       "    </tr>\n",
       "  </tbody>\n",
       "</table>\n",
       "<p>402 rows × 5 columns</p>\n",
       "</div>"
      ],
      "text/plain": [
       "                child_lei                                child_name  \\\n",
       "0    549300HDCRTBPEURI316                 UNILEVER ČR, spol. s r.o.   \n",
       "1    549300EF9ZLCS32PSN92                 DEAM CAPITAL PROTECT 2019   \n",
       "2    529900UUPS52ZOCZKF69   Deutsche Capital Partners China Limited   \n",
       "3    549300L70BS183Y6ML67                       DWS Investment S.A.   \n",
       "4    549300SE1UII3HYCP132                              MIXHOLD B.V.   \n",
       "..                    ...                                       ...   \n",
       "397  549300G0GSODGZH94Z69                  VISION DIRECT EUROPE LTD   \n",
       "398  5299000ALLPGKHTTUV74             Deutsche Bank Capital Trust I   \n",
       "399  3358007MD8NFWEKRC164   RAYBAN SUN OPTICS INDIA PRIVATE LIMITED   \n",
       "400  5493002J445FKF3T3Q63  DWS INVEST - MULTI ASSET MODERATE INCOME   \n",
       "401  529900X253XLINEUH028                      Plantation Bay, Inc.   \n",
       "\n",
       "    child_country            parent_lei                       parent_name  \n",
       "0              CZ  549300MKFYEKVRWML317                      UNILEVER PLC  \n",
       "1              DE  7LTWFZYICNSX8D621K86  DEUTSCHE BANK AKTIENGESELLSCHAFT  \n",
       "2              KY  7LTWFZYICNSX8D621K86  DEUTSCHE BANK AKTIENGESELLSCHAFT  \n",
       "3              LU  7LTWFZYICNSX8D621K86  DEUTSCHE BANK AKTIENGESELLSCHAFT  \n",
       "4              NL  549300MKFYEKVRWML317                      UNILEVER PLC  \n",
       "..            ...                   ...                               ...  \n",
       "397            GB  549300M3VH1A3ER1TB49                  ESSILORLUXOTTICA  \n",
       "398            US  7LTWFZYICNSX8D621K86  DEUTSCHE BANK AKTIENGESELLSCHAFT  \n",
       "399            IN  549300M3VH1A3ER1TB49                  ESSILORLUXOTTICA  \n",
       "400            LU  7LTWFZYICNSX8D621K86  DEUTSCHE BANK AKTIENGESELLSCHAFT  \n",
       "401            VI  7LTWFZYICNSX8D621K86  DEUTSCHE BANK AKTIENGESELLSCHAFT  \n",
       "\n",
       "[402 rows x 5 columns]"
      ]
     },
     "execution_count": 14,
     "metadata": {},
     "output_type": "execute_result"
    }
   ],
   "source": [
    "result_df"
   ]
  },
  {
   "cell_type": "code",
   "execution_count": 15,
   "metadata": {},
   "outputs": [],
   "source": [
    "result_df.to_csv('result_exercise_1.csv', index=False)"
   ]
  },
  {
   "cell_type": "code",
   "execution_count": null,
   "metadata": {},
   "outputs": [],
   "source": []
  },
  {
   "cell_type": "markdown",
   "metadata": {},
   "source": [
    "References:\n",
    "- [1]() ratelimit 2.2.1 [https://pypi.org/project/ratelimit/](https://pypi.org/project/ratelimit/)"
   ]
  },
  {
   "cell_type": "markdown",
   "metadata": {},
   "source": []
  }
 ],
 "metadata": {
  "kernelspec": {
   "display_name": "base",
   "language": "python",
   "name": "python3"
  },
  "language_info": {
   "codemirror_mode": {
    "name": "ipython",
    "version": 3
   },
   "file_extension": ".py",
   "mimetype": "text/x-python",
   "name": "python",
   "nbconvert_exporter": "python",
   "pygments_lexer": "ipython3",
   "version": "3.8.5"
  }
 },
 "nbformat": 4,
 "nbformat_minor": 2
}
