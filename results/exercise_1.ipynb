{
 "cells": [
  {
   "cell_type": "markdown",
   "metadata": {},
   "source": [
    "# Exercise 1"
   ]
  },
  {
   "cell_type": "markdown",
   "metadata": {},
   "source": [
    "Retrieve the <b>legal name</b>, the residence <b>country</b> and the <b>ultimate parent</b> (LEI and name) of all companies present in the provided datasets (*issuances.csv* and *holdings.csv*), and store them in a dataframe."
   ]
  },
  {
   "cell_type": "markdown",
   "metadata": {},
   "source": [
    "To structure the requests, please find \"lei-records\" endpoint details [GLEIF API](https://documenter.getpostman.com/view/7679680/SVYrrxuU?version=latest#5fc83577-f5ae-41fa-aa4e-2848554958b4)."
   ]
  },
  {
   "cell_type": "markdown",
   "metadata": {},
   "source": [
    "---"
   ]
  },
  {
   "cell_type": "code",
   "execution_count": 1,
   "metadata": {},
   "outputs": [],
   "source": [
    "import pandas as pd\n",
    "import requests\n",
    "session = requests.Session()"
   ]
  },
  {
   "cell_type": "code",
   "execution_count": 2,
   "metadata": {},
   "outputs": [],
   "source": [
    "issuances_df = pd.read_csv('../data/issuances.csv', sep=';')\n",
    "holdings_df = pd.read_csv('../data/holdings.csv', sep=\";\")\n",
    "url = \"https://api.gleif.org/api/v1/lei-records/\""
   ]
  },
  {
   "cell_type": "code",
   "execution_count": 3,
   "metadata": {},
   "outputs": [],
   "source": [
    "children_companies = list(set(holdings_df[\"holder_lei\"].values.tolist()))"
   ]
  },
  {
   "cell_type": "code",
   "execution_count": 4,
   "metadata": {},
   "outputs": [
    {
     "data": {
      "text/plain": [
       "402"
      ]
     },
     "execution_count": 4,
     "metadata": {},
     "output_type": "execute_result"
    }
   ],
   "source": [
    "len(children_companies)"
   ]
  },
  {
   "cell_type": "markdown",
   "metadata": {},
   "source": [
    "Since the GET request has a rate limiting (see [here](https://www.postman.com/planetary-moon-167465/workspace/is/collection/1849746-f4ede923-1a55-4b4d-a86d-5bb588e50298)), we need to use some tool to avoid getting the loop broken by an error. In fact, API providers constrain developers from making too many API calls, this may lead to your application to be be banned from making further API calls if it abuses these limits. In this case I decided to use a function decorator preventing a function from being called more often than that allowed by the API provider: [ratelimit](https://pypi.org/project/ratelimit/). [1]()"
   ]
  },
  {
   "cell_type": "code",
   "execution_count": 5,
   "metadata": {},
   "outputs": [],
   "source": [
    "from ratelimit import limits, sleep_and_retry\n",
    "\n",
    "# 60 calls per 60 seconds\n",
    "CALLS = 60\n",
    "RATE_LIMIT = 60\n",
    "\n",
    "@sleep_and_retry\n",
    "@limits(calls=CALLS, period=RATE_LIMIT)\n",
    "def check_limit():\n",
    "    ''' \n",
    "    Empty function just to check for calls to API \n",
    "    '''\n",
    "    return"
   ]
  },
  {
   "cell_type": "code",
   "execution_count": 6,
   "metadata": {},
   "outputs": [],
   "source": [
    "result = []\n",
    "for child in children_companies:\n",
    "    check_limit()\n",
    "    response_child = session.get(url + child , headers={\"Accept\": \"application/vnd.api+json\"})\n",
    "    name = response_child.json()[\"data\"][\"attributes\"][\"entity\"][\"legalName\"][\"name\"]\n",
    "    country = response_child.json()[\"data\"][\"attributes\"][\"entity\"][\"legalAddress\"][\"country\"]\n",
    "    response_parent = session.get(url + child + \"/\" +  \"ultimate-parent\", headers={\"Accept\": \"application/vnd.api+json\"})\n",
    "    ultimate_parent_lei = response_parent.json()[\"data\"][\"id\"]\n",
    "    ultimate_parent_name = response_parent.json()[\"data\"][\"attributes\"][\"entity\"][\"legalName\"][\"name\"]\n",
    "    result.append((child, name, country, ultimate_parent_lei, ultimate_parent_name))\n"
   ]
  },
  {
   "cell_type": "code",
   "execution_count": null,
   "metadata": {},
   "outputs": [],
   "source": [
    "result_df = pd.DataFrame(result, columns=[\"child_lei\", \"child_name\", \"child_country\", \"parent_lei\", \"parent_name\"])"
   ]
  },
  {
   "cell_type": "code",
   "execution_count": null,
   "metadata": {},
   "outputs": [],
   "source": [
    "result_df"
   ]
  },
  {
   "cell_type": "code",
   "execution_count": null,
   "metadata": {},
   "outputs": [],
   "source": [
    "result_df.to_csv('result_exercise_1.csv', index=False)"
   ]
  },
  {
   "cell_type": "code",
   "execution_count": null,
   "metadata": {},
   "outputs": [],
   "source": []
  },
  {
   "cell_type": "markdown",
   "metadata": {},
   "source": [
    "References:\n",
    "- [1]() ratelimit 2.2.1 [https://pypi.org/project/ratelimit/](https://pypi.org/project/ratelimit/)"
   ]
  },
  {
   "cell_type": "markdown",
   "metadata": {},
   "source": []
  }
 ],
 "metadata": {
  "kernelspec": {
   "display_name": "base",
   "language": "python",
   "name": "python3"
  },
  "language_info": {
   "codemirror_mode": {
    "name": "ipython",
    "version": 3
   },
   "file_extension": ".py",
   "mimetype": "text/x-python",
   "name": "python",
   "nbconvert_exporter": "python",
   "pygments_lexer": "ipython3",
   "version": "3.8.5"
  }
 },
 "nbformat": 4,
 "nbformat_minor": 2
}
