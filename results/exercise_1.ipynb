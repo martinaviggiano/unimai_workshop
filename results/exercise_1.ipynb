{
 "cells": [
  {
   "cell_type": "markdown",
   "metadata": {},
   "source": [
    "# Exercise 1"
   ]
  },
  {
   "cell_type": "markdown",
   "metadata": {},
   "source": [
    "Retrieve the <b>legal name</b>, the residence <b>country</b> and the <b>ultimate parent</b> (LEI and name) of all companies present in the provided datasets (*issuances.csv* and *holdings.csv*), and store them in a dataframe."
   ]
  },
  {
   "cell_type": "markdown",
   "metadata": {},
   "source": [
    "To structure the requests, please find \"lei-records\" endpoint details [GLEIF API](https://documenter.getpostman.com/view/7679680/SVYrrxuU?version=latest#5fc83577-f5ae-41fa-aa4e-2848554958b4)."
   ]
  },
  {
   "cell_type": "markdown",
   "metadata": {},
   "source": [
    "---"
   ]
  },
  {
   "cell_type": "code",
   "execution_count": null,
   "metadata": {},
   "outputs": [],
   "source": [
    "import pandas as pd\n",
    "import requests\n",
    "session = requests.Session()"
   ]
  },
  {
   "cell_type": "code",
   "execution_count": null,
   "metadata": {},
   "outputs": [],
   "source": [
    "issuances_df = pd.read_csv('../data/issuances.csv', sep=';')\n",
    "holdings_df = pd.read_csv('../data/holdings.csv')\n",
    "url = \"https://api.gleif.org/api/v1/lei-records/\""
   ]
  },
  {
   "cell_type": "code",
   "execution_count": null,
   "metadata": {},
   "outputs": [],
   "source": [
    "children_companies = list(set(holdings_df[\"holder_lei\"].values.tolist()))"
   ]
  },
  {
   "cell_type": "code",
   "execution_count": null,
   "metadata": {},
   "outputs": [],
   "source": [
    "len(children_companies)"
   ]
  },
  {
   "cell_type": "markdown",
   "metadata": {},
   "source": [
    "[ratelimit](https://pypi.org/project/ratelimit/)"
   ]
  },
  {
   "cell_type": "code",
   "execution_count": null,
   "metadata": {},
   "outputs": [],
   "source": [
    "from ratelimit import limits, sleep_and_retry\n",
    "\n",
    "# 60 calls per 60 seconds\n",
    "CALLS = 60\n",
    "RATE_LIMIT = 60\n",
    "\n",
    "@sleep_and_retry\n",
    "@limits(calls=CALLS, period=RATE_LIMIT)\n",
    "def check_limit():\n",
    "    ''' \n",
    "    Empty function just to check for calls to API \n",
    "    '''\n",
    "    return"
   ]
  },
  {
   "cell_type": "code",
   "execution_count": null,
   "metadata": {},
   "outputs": [],
   "source": [
    "result = []\n",
    "for child in children_companies:\n",
    "    check_limit()\n",
    "    print(child)\n",
    "    response_child = session.get(url + child , headers={\"Accept\": \"application/vnd.api+json\"})\n",
    "    name = response_child.json()[\"data\"][\"attributes\"][\"entity\"][\"legalName\"][\"name\"]\n",
    "    country = response_child.json()[\"data\"][\"attributes\"][\"entity\"][\"legalAddress\"][\"country\"]\n",
    "    response_parent = session.get(url + child + \"/\" +  \"ultimate-parent\", headers={\"Accept\": \"application/vnd.api+json\"})\n",
    "    ultimate_parent_lei = response_parent.json()[\"data\"][\"id\"]\n",
    "    ultimate_parent_name = response_parent.json()[\"data\"][\"attributes\"][\"entity\"][\"legalName\"][\"name\"]\n",
    "    result.append((child, name, country, ultimate_parent_lei, ultimate_parent_name))\n"
   ]
  },
  {
   "cell_type": "code",
   "execution_count": null,
   "metadata": {},
   "outputs": [],
   "source": [
    "result_df = pd.DataFrame(result, columns=[\"child_lei\", \"child_name\", \"child_country\", \"parent_lei\", \"parent_name\"])"
   ]
  },
  {
   "cell_type": "code",
   "execution_count": null,
   "metadata": {},
   "outputs": [],
   "source": [
    "result_df"
   ]
  },
  {
   "cell_type": "code",
   "execution_count": null,
   "metadata": {},
   "outputs": [],
   "source": [
    "result_df.to_csv('result_exercise_1.csv', index=False)"
   ]
  },
  {
   "cell_type": "code",
   "execution_count": null,
   "metadata": {},
   "outputs": [],
   "source": []
  }
 ],
 "metadata": {
  "kernelspec": {
   "display_name": "base",
   "language": "python",
   "name": "python3"
  },
  "language_info": {
   "codemirror_mode": {
    "name": "ipython",
    "version": 3
   },
   "file_extension": ".py",
   "mimetype": "text/x-python",
   "name": "python",
   "nbconvert_exporter": "python",
   "pygments_lexer": "ipython3",
   "version": "3.8.5"
  }
 },
 "nbformat": 4,
 "nbformat_minor": 2
}
