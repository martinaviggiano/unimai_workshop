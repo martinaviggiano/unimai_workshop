{
 "cells": [
  {
   "cell_type": "markdown",
   "metadata": {},
   "source": [
    "# Metadata modelling and validation: a practical demonstration\n",
    "\n",
    "## What is metadata modelling\n",
    "Metadata modelling involves creating a structured representation of metadata to describe the characteristic, properties, and relationships of data within a system or organisation.\n",
    "Key aspects of metadata modelling include:\n",
    "- **Entities**: Identifying and defining entities (such as tables or any other generic data structure).\n",
    "- **Attributes**: Identifying and defining attributes (fields or culums) of an entity.\n",
    "- **Relationships**: Defining relationships and dependencie between different entities.\n",
    "- **Constraints**: Establishing constraints, rules, and business logic associated with the data to maintain data integrity and quality.\n",
    "\n",
    "## What is a meta-model\n",
    "A meta-model is a model that define the structure and relationships of other models. In the context of metadata, a meta-model is a conceptual framework that describes the elements and relationships withing the metadata model. By defining these meta-models, you provide a standardized framework for creating specific metadata models for different datasets. It ensures consistency and adherence to a common set of principles when designing metadata structures. It provides a higher-level abstraction, defining the types of entities, attributes, relationships, and constraints that can be used to create specific metadata models. For example a meta-model might define:\n",
    "- **Entity**: entities can have one or more attributes\n",
    "- **Attibute**: attributes can have one constraint\n",
    "- **Constraint**: constraints are associated with an attribute\n",
    "\n",
    "### Important aspects to consider\n",
    "- **Maintainability**: Metadata includes information about the author of the data being described.\n",
    "- **Versioning**: Metadata often includes information about the version of the data, helping users track changes and updates over time.\n",
    "- **Historisation**: Mistorisation involves recording historical states of metadata to understand its validity.\n",
    "\n",
    "## Let's create our own meta-model in Python\n",
    "Some considerations to make\n",
    "- define classes in an object-oriented fashion\n",
    "- default parameters\n",
    "- hint typing and documentation"
   ]
  },
  {
   "cell_type": "code",
   "execution_count": 1,
   "metadata": {},
   "outputs": [],
   "source": [
    "# importing the classesd defined in meta_model.py\n",
    "from datetime import datetime\n",
    "from meta_model import Author, Constraint, Attribute, Entity, Relationship"
   ]
  },
  {
   "cell_type": "markdown",
   "metadata": {},
   "source": [
    "### Instantiate the Author for the metadata objects"
   ]
  },
  {
   "cell_type": "code",
   "execution_count": 2,
   "metadata": {},
   "outputs": [],
   "source": [
    "# instantiate the Author for the metadata objects\n",
    "author = Author(code=\"UNIMI\", name=\"UniMi\", description=\"Università degli Studi di Milano\")"
   ]
  },
  {
   "cell_type": "markdown",
   "metadata": {},
   "source": [
    "### Instantiate Constraints"
   ]
  },
  {
   "cell_type": "code",
   "execution_count": 3,
   "metadata": {},
   "outputs": [],
   "source": [
    "# Instantiate Constraints\n",
    "country_constraint = Constraint(code=\"COUNTRY_CONSTRAINT\", name=\"ISO Country Code\", regex_pattern=\"^[A-Za-z]{2}$\")\n",
    "name_constraint = Constraint(code=\"NAME_CONSTRAINT\", name=\"No Constraint\")\n",
    "lei_constraint = Constraint(code=\"LEI_CONSTRAINT\", name=\"Max Length 20\", max_length=20)"
   ]
  },
  {
   "cell_type": "markdown",
   "metadata": {},
   "source": [
    "### Instantiate Attributes"
   ]
  },
  {
   "cell_type": "code",
   "execution_count": 4,
   "metadata": {},
   "outputs": [],
   "source": [
    "# Instantiate Attributes\n",
    "holder_lei_attribute = Attribute(code=\"HOLDER_LEI\", name=\"Holder LEI\", constraint=lei_constraint)\n",
    "name_attribute = Attribute(code=\"NAME\", name=\"Name\", constraint=name_constraint)\n",
    "country_attribute = Attribute(code=\"COUNTRY\", name=\"Country\", constraint=country_constraint)"
   ]
  },
  {
   "cell_type": "markdown",
   "metadata": {},
   "source": [
    "### Instantiate the companies Entity"
   ]
  },
  {
   "cell_type": "code",
   "execution_count": 5,
   "metadata": {},
   "outputs": [],
   "source": [
    "# Instantiate the companies Entity\n",
    "companies_entity = Entity(\n",
    "    code=\"COMPANIES\",\n",
    "    name=\"Companies\",\n",
    "    description=\"Information about companies\",\n",
    "    author=author,\n",
    "    version=\"1.0\",\n",
    "    valid_from=datetime.now()\n",
    ")\n",
    "\n",
    "# Add attributes to the Entity using the add_attribute method\n",
    "companies_entity.add_attribute(holder_lei_attribute)\n",
    "companies_entity.add_attribute(name_attribute)\n",
    "companies_entity.add_attribute(country_attribute)"
   ]
  },
  {
   "cell_type": "markdown",
   "metadata": {},
   "source": [
    "### Let's navigate through the Entitiest table"
   ]
  },
  {
   "cell_type": "code",
   "execution_count": 6,
   "metadata": {},
   "outputs": [
    {
     "data": {
      "text/plain": [
       "'Companies'"
      ]
     },
     "execution_count": 6,
     "metadata": {},
     "output_type": "execute_result"
    }
   ],
   "source": [
    "# find entity name startig from the instance companies_entity\n",
    "companies_entity.name"
   ]
  },
  {
   "cell_type": "markdown",
   "metadata": {},
   "source": [
    "### Exercise 1\n",
    "1. Find the constraint name applied to the country attribute starting from the instance companies_entity\n",
    "2. Instantiate the entity holdings and its related objects like we did for companies"
   ]
  },
  {
   "cell_type": "code",
   "execution_count": null,
   "metadata": {},
   "outputs": [],
   "source": []
  },
  {
   "cell_type": "code",
   "execution_count": null,
   "metadata": {},
   "outputs": [],
   "source": []
  },
  {
   "cell_type": "markdown",
   "metadata": {},
   "source": [
    "### Optional Exercise\n",
    "Try to create the relationships between entities based on the information provided by Martina"
   ]
  }
 ],
 "metadata": {
  "kernelspec": {
   "display_name": "cienv",
   "language": "python",
   "name": "python3"
  },
  "language_info": {
   "codemirror_mode": {
    "name": "ipython",
    "version": 3
   },
   "file_extension": ".py",
   "mimetype": "text/x-python",
   "name": "python",
   "nbconvert_exporter": "python",
   "pygments_lexer": "ipython3",
   "version": "3.10.9"
  }
 },
 "nbformat": 4,
 "nbformat_minor": 2
}
