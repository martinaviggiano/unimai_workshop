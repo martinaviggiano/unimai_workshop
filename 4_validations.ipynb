{
 "cells": [
  {
   "cell_type": "markdown",
   "metadata": {},
   "source": [
    "# Introduction to Validations in Metadata-Driven Data Management\n",
    "\n",
    "In the realm of metadata-driven data management, validations play a crucial role in ensuring the integrity and quality of both the metadata and the actual data. Validations are checks and constraints applied to verify that the information conforms to predefined rules. In this notebook, we will explore two primary types of validations:\n",
    "\n",
    "- **Validation of Meta-Model Constraints**: The meta-model serves as the blueprint for structuring metadata, defining the entities, attributes, and relationships within a given system. Meta-model constraints specify the rules and standards that metadata must adhere to. For instance, the author's name should be a string, ensuring consistency and clarity in documenting the metadata. Validating meta-model constraints ensures that the metadata remains accurate, well-defined, and aligned with the intended structure.\n",
    "\n",
    "- **Validation of Actual Data Using Metadata Constraints**: While meta-model constraints govern the structure of metadata, they also serve as a foundation for validating the actual data. Metadata constraints, such as minimum and maximum values, regex patterns, or length requirements can be used to validate the underlying data. For example, if the metadata dictates that the minimum value of a price should be zero and not negative, data validation ensures that this condition holds true for every data point related to pricing. This type of validation safeguards against inconsistencies and inaccuracies in the underlying data.\n",
    "\n",
    "In the subsequent sections, we will delve into practical examples and exercises to demonstrate how these validations can be implemented using Python and a metadata-driven approach.\n",
    "\n",
    "## Let's instantiate the issuances entity and its related objects"
   ]
  },
  {
   "cell_type": "code",
   "execution_count": 1,
   "metadata": {},
   "outputs": [],
   "source": [
    "# let's instantiate the issues entty and its related objects\n",
    "import pandas as pd\n",
    "from typing import Optional, List, Dict, Literal\n",
    "from datetime import datetime\n",
    "import warnings\n",
    "from meta_model import Author, Constraint, Attribute, Entity, Relationship\n",
    "\n",
    "warnings.filterwarnings('always', category=UserWarning)\n",
    "\n",
    "# instantiate the Author for the metadata objects\n",
    "author = Author(code=\"UNIMI\", name=\"UniMi\", description=\"Università degli Studi di Milano\")\n",
    "\n",
    "# Instantiate Constraints for Issuances Entity\n",
    "isin_constraint_issuances = Constraint(code=\"ISIN_CONSTRAINT\", name=\"ISIN Regex\", regex_pattern=\"^[AZ]{2}[-]{0,1}[0-9A-Z]{8}[-]{0,1}[0-9]{1}$\")\n",
    "issue_date_constraint = Constraint(code=\"ISSUE_DATE_CONSTRAINT\", name=\"No Constraint\")\n",
    "publication_price_constraint = Constraint(code=\"PUBLICATION_PRICE_CONSTRAINT\", name=\"Min Value 0\", min_value=0)\n",
    "volume_constraint = Constraint(code=\"VOLUME_CONSTRAINT\", name=\"No Constraint\")\n",
    "market_capitalization_constraint = Constraint(code=\"MARKET_CAPITALIZATION_CONSTRAINT\", name=\"No Constraint\")\n",
    "issuer_lei_constraint = Constraint(code=\"ISSUER_LEI_CONSTRAINT\", name=\"Max Length 20\", max_length=20)\n",
    "\n",
    "# Instantiate Attributes for Issuances Entity\n",
    "isin_attribute_issuances = Attribute(code=\"ISIN\", name=\"ISIN\", constraint=isin_constraint_issuances)\n",
    "issue_date_attribute = Attribute(code=\"ISSUE_DATE\", name=\"Issue Date\", constraint=issue_date_constraint)\n",
    "publication_price_attribute = Attribute(code=\"PUBLICATION_PRICE\", name=\"Publication Price\", constraint=publication_price_constraint)\n",
    "volume_attribute = Attribute(code=\"VOLUME\", name=\"Volume\", constraint=volume_constraint)\n",
    "market_capitalization_attribute = Attribute(code=\"MARKET_CAPITALIZATION\", name=\"Market Capitalization\", constraint=market_capitalization_constraint)\n",
    "issuer_lei_attribute = Attribute(code=\"ISSUER_LEI\", name=\"Issuer LEI\", constraint=issuer_lei_constraint)\n",
    "\n",
    "# Instantiate the Issuances Entity\n",
    "issuances_entity = Entity(\n",
    "    code=\"ISSUANCES\",\n",
    "    name=\"Issuances\",\n",
    "    description=\"Information about securities issued\",\n",
    "    author=author,\n",
    "    version=\"1.0\",\n",
    "    valid_from=datetime.now(),\n",
    ")\n",
    "\n",
    "# Add attributes using the add_attribute method\n",
    "issuances_entity.add_attribute(isin_attribute_issuances)\n",
    "issuances_entity.add_attribute(issue_date_attribute)\n",
    "issuances_entity.add_attribute(publication_price_attribute)\n",
    "issuances_entity.add_attribute(volume_attribute)\n",
    "issuances_entity.add_attribute(market_capitalization_attribute)\n",
    "issuances_entity.add_attribute(issuer_lei_attribute)"
   ]
  },
  {
   "cell_type": "markdown",
   "metadata": {},
   "source": [
    "## Exercise 4\n",
    "1. Validation of meta-model costraints: modify the Author class to add a method called validate that checks whether the name of the author is a string.\n",
    "2. Validation of actual data using metadata constraints: create a class to validate an attribute that takes as input an attribute and the respective column and row of a dataframe, focus on the publication_price and validate a row and where the publication_price is negative (e.g. row  index 6 with value -11)"
   ]
  },
  {
   "cell_type": "code",
   "execution_count": null,
   "metadata": {},
   "outputs": [],
   "source": []
  },
  {
   "cell_type": "code",
   "execution_count": null,
   "metadata": {},
   "outputs": [],
   "source": []
  }
 ],
 "metadata": {
  "kernelspec": {
   "display_name": "base",
   "language": "python",
   "name": "python3"
  },
  "language_info": {
   "codemirror_mode": {
    "name": "ipython",
    "version": 3
   },
   "file_extension": ".py",
   "mimetype": "text/x-python",
   "name": "python",
   "nbconvert_exporter": "python",
   "pygments_lexer": "ipython3",
   "version": "3.10.9"
  }
 },
 "nbformat": 4,
 "nbformat_minor": 2
}
