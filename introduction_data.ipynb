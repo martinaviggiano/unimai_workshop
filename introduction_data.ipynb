{
 "cells": [
  {
   "cell_type": "markdown",
   "metadata": {},
   "source": [
    "# Introduction on data"
   ]
  },
  {
   "cell_type": "markdown",
   "metadata": {},
   "source": [
    "In this exercise we combine issuances and holdings datasets, and we fetch legal entities Level 2 data using [Gleif API](https://documenter.getpostman.com/view/7679680/SVYrrxuU?version=latest#40ef2ec4-b8bd-46de-8ad5-5359ed828242), to connect corporate dots and simulate a financial markets analysis on defaults. "
   ]
  },
  {
   "cell_type": "markdown",
   "metadata": {},
   "source": [
    "<u>NOTE</u>: The provided granular datasets *issuances.csv* and *holdings.csv* are composed of artificial data: the ISINs in the first datasets were randomly generated, and instruments were casually assigned to holder companies. We are pretending to own two datasets providing granular securities data on issuances and holdings perspective."
   ]
  },
  {
   "cell_type": "code",
   "execution_count": 14,
   "metadata": {},
   "outputs": [],
   "source": [
    "import pandas as pd"
   ]
  },
  {
   "cell_type": "code",
   "execution_count": 15,
   "metadata": {},
   "outputs": [],
   "source": [
    "issuances_df = pd.read_csv('issuances.csv', sep=';')\n",
    "holdings_df = pd.read_csv('holdings.csv')"
   ]
  },
  {
   "cell_type": "markdown",
   "metadata": {},
   "source": [
    "*issuances.csv* provides ISIN-by-ISIN information, i.e. for each security the following details are provided:\n",
    "- *isin*: the ID of the security;\n",
    "- *issue_date*: date of issuance;\n",
    "- *publication_price*: price of publication;\n",
    "- *volume*: number of outstanding amount of stock;\n",
    "- *market_capitalization*: market value of the company's outstanding amount of stock;\n",
    "- *issuer_lei*: the ID (LEI) of the issuer company."
   ]
  },
  {
   "cell_type": "code",
   "execution_count": 16,
   "metadata": {},
   "outputs": [
    {
     "data": {
      "text/html": [
       "<div>\n",
       "<style scoped>\n",
       "    .dataframe tbody tr th:only-of-type {\n",
       "        vertical-align: middle;\n",
       "    }\n",
       "\n",
       "    .dataframe tbody tr th {\n",
       "        vertical-align: top;\n",
       "    }\n",
       "\n",
       "    .dataframe thead th {\n",
       "        text-align: right;\n",
       "    }\n",
       "</style>\n",
       "<table border=\"1\" class=\"dataframe\">\n",
       "  <thead>\n",
       "    <tr style=\"text-align: right;\">\n",
       "      <th></th>\n",
       "      <th>isin</th>\n",
       "      <th>issue_date</th>\n",
       "      <th>publication_price</th>\n",
       "      <th>volume</th>\n",
       "      <th>market_capitalization</th>\n",
       "      <th>issuer_lei</th>\n",
       "    </tr>\n",
       "  </thead>\n",
       "  <tbody>\n",
       "    <tr>\n",
       "      <th>0</th>\n",
       "      <td>ES9912477644</td>\n",
       "      <td>11/05/2023</td>\n",
       "      <td>-100.0</td>\n",
       "      <td>2000</td>\n",
       "      <td>-200000.0</td>\n",
       "      <td>529900QDG42IVLG7C683</td>\n",
       "    </tr>\n",
       "    <tr>\n",
       "      <th>1</th>\n",
       "      <td>DK5728198744</td>\n",
       "      <td>30/09/2020</td>\n",
       "      <td>-11.0</td>\n",
       "      <td>100</td>\n",
       "      <td>-1100.0</td>\n",
       "      <td>529900RF2834I0MC2L78</td>\n",
       "    </tr>\n",
       "    <tr>\n",
       "      <th>2</th>\n",
       "      <td>AT9885255322</td>\n",
       "      <td>14/07/2023</td>\n",
       "      <td>-10.0</td>\n",
       "      <td>3546</td>\n",
       "      <td>-35460.0</td>\n",
       "      <td>549300SDDBLYMENCB570</td>\n",
       "    </tr>\n",
       "    <tr>\n",
       "      <th>3</th>\n",
       "      <td>LU4963238630</td>\n",
       "      <td>23/04/2020</td>\n",
       "      <td>-5.0</td>\n",
       "      <td>5</td>\n",
       "      <td>-25.0</td>\n",
       "      <td>2138003FL72FCO53LM68</td>\n",
       "    </tr>\n",
       "    <tr>\n",
       "      <th>4</th>\n",
       "      <td>LT4925090717</td>\n",
       "      <td>12/01/2023</td>\n",
       "      <td>-0.1</td>\n",
       "      <td>2</td>\n",
       "      <td>-0.2</td>\n",
       "      <td>549300X7KXMBP1V42N81</td>\n",
       "    </tr>\n",
       "  </tbody>\n",
       "</table>\n",
       "</div>"
      ],
      "text/plain": [
       "           isin  issue_date  publication_price  volume  market_capitalization  \\\n",
       "0  ES9912477644  11/05/2023             -100.0    2000              -200000.0   \n",
       "1  DK5728198744  30/09/2020              -11.0     100                -1100.0   \n",
       "2  AT9885255322  14/07/2023              -10.0    3546               -35460.0   \n",
       "3  LU4963238630  23/04/2020               -5.0       5                  -25.0   \n",
       "4  LT4925090717  12/01/2023               -0.1       2                   -0.2   \n",
       "\n",
       "             issuer_lei  \n",
       "0  529900QDG42IVLG7C683  \n",
       "1  529900RF2834I0MC2L78  \n",
       "2  549300SDDBLYMENCB570  \n",
       "3  2138003FL72FCO53LM68  \n",
       "4  549300X7KXMBP1V42N81  "
      ]
     },
     "execution_count": 16,
     "metadata": {},
     "output_type": "execute_result"
    }
   ],
   "source": [
    "issuances_df.head()"
   ]
  },
  {
   "cell_type": "markdown",
   "metadata": {},
   "source": [
    "*holdingd.csv* provides on information about who is holding what security:\n",
    "- *isin*: the ID of the security;\n",
    "- *holder_lei*: the ID (LEI) of the holder company"
   ]
  },
  {
   "cell_type": "code",
   "execution_count": 17,
   "metadata": {},
   "outputs": [
    {
     "data": {
      "text/html": [
       "<div>\n",
       "<style scoped>\n",
       "    .dataframe tbody tr th:only-of-type {\n",
       "        vertical-align: middle;\n",
       "    }\n",
       "\n",
       "    .dataframe tbody tr th {\n",
       "        vertical-align: top;\n",
       "    }\n",
       "\n",
       "    .dataframe thead th {\n",
       "        text-align: right;\n",
       "    }\n",
       "</style>\n",
       "<table border=\"1\" class=\"dataframe\">\n",
       "  <thead>\n",
       "    <tr style=\"text-align: right;\">\n",
       "      <th></th>\n",
       "      <th>isin</th>\n",
       "      <th>holder_lei</th>\n",
       "    </tr>\n",
       "  </thead>\n",
       "  <tbody>\n",
       "    <tr>\n",
       "      <th>0</th>\n",
       "      <td>SK4383059521</td>\n",
       "      <td>254900RGIHNSOOTM0L46</td>\n",
       "    </tr>\n",
       "    <tr>\n",
       "      <th>1</th>\n",
       "      <td>SK4383059521</td>\n",
       "      <td>2138006HP23N8GYS9Q88</td>\n",
       "    </tr>\n",
       "    <tr>\n",
       "      <th>2</th>\n",
       "      <td>SK4383059521</td>\n",
       "      <td>529900JYUND014UQ0P58</td>\n",
       "    </tr>\n",
       "    <tr>\n",
       "      <th>3</th>\n",
       "      <td>SK4383059521</td>\n",
       "      <td>549300M7R6X5LJOH0491</td>\n",
       "    </tr>\n",
       "    <tr>\n",
       "      <th>4</th>\n",
       "      <td>CH8229968527</td>\n",
       "      <td>254900WJJF84AQA4EN11</td>\n",
       "    </tr>\n",
       "  </tbody>\n",
       "</table>\n",
       "</div>"
      ],
      "text/plain": [
       "           isin            holder_lei\n",
       "0  SK4383059521  254900RGIHNSOOTM0L46\n",
       "1  SK4383059521  2138006HP23N8GYS9Q88\n",
       "2  SK4383059521  529900JYUND014UQ0P58\n",
       "3  SK4383059521  549300M7R6X5LJOH0491\n",
       "4  CH8229968527  254900WJJF84AQA4EN11"
      ]
     },
     "execution_count": 17,
     "metadata": {},
     "output_type": "execute_result"
    }
   ],
   "source": [
    "holdings_df.head()"
   ]
  },
  {
   "cell_type": "markdown",
   "metadata": {},
   "source": [
    "The two datasets point to two different aspects of financial market, and if we join them, we can have a broader perspective on the market.\n",
    "\n",
    "If we can merge them based on the *ISIN*, we can observe if from securities point of view: given one security, we can find information on the issuer and the holder of that security. \n",
    "\n",
    "We could also join based on company (i.e. *issuer_lei* on *holder_lei*) to see whether an issuer company is also a holder of securities issued by another company."
   ]
  },
  {
   "cell_type": "markdown",
   "metadata": {},
   "source": [
    "## Companies data"
   ]
  },
  {
   "cell_type": "markdown",
   "metadata": {},
   "source": [
    "While various instrument details are available, no details on companies were provided. To collect them, we can use [Gleif API](https://documenter.getpostman.com/view/7679680/SVYrrxuU?version=latest#40ef2ec4-b8bd-46de-8ad5-5359ed828242).\n",
    "\n",
    "The GLEIF API gives developers access to full LEI Data search engine functionality, including filters, full-text and single-field searches of Level 1 (LEI Record) Data, retrieval of LEI Records (including links to their Level 2 data, where available), based on a search of their associated Level 2 (relationship) data, and \"fuzzy\" matching of important data fields such as names and addresses.\n",
    "\n",
    "Requests are HTTP REST calls, following the JSON API specification."
   ]
  },
  {
   "cell_type": "code",
   "execution_count": 18,
   "metadata": {},
   "outputs": [],
   "source": [
    "import requests"
   ]
  },
  {
   "cell_type": "code",
   "execution_count": 23,
   "metadata": {},
   "outputs": [],
   "source": [
    "session = requests.Session()\n",
    "url = \"https://api.gleif.org/api/v1/lei-records/\"\n",
    "company_id = \"2W8N8UU78PMDQKZENC08\""
   ]
  },
  {
   "cell_type": "code",
   "execution_count": 24,
   "metadata": {},
   "outputs": [],
   "source": [
    "session_json = session.get(url + company_id, headers={\"Accept\": \"application/vnd.api+json\"})"
   ]
  },
  {
   "cell_type": "code",
   "execution_count": 25,
   "metadata": {},
   "outputs": [
    {
     "data": {
      "text/plain": [
       "{'meta': {'goldenCopy': {'publishDate': '2024-02-25T08:00:00Z'}},\n",
       " 'data': {'type': 'lei-records',\n",
       "  'id': '2W8N8UU78PMDQKZENC08',\n",
       "  'attributes': {'lei': '2W8N8UU78PMDQKZENC08',\n",
       "   'entity': {'legalName': {'name': 'INTESA SANPAOLO SPA',\n",
       "     'language': 'it-IT'},\n",
       "    'otherNames': [],\n",
       "    'transliteratedOtherNames': [],\n",
       "    'legalAddress': {'language': 'it-IT',\n",
       "     'addressLines': ['PIAZZA SAN CARLO, 156'],\n",
       "     'addressNumber': None,\n",
       "     'addressNumberWithinBuilding': None,\n",
       "     'mailRouting': None,\n",
       "     'city': 'TORINO',\n",
       "     'region': 'IT-TO',\n",
       "     'country': 'IT',\n",
       "     'postalCode': '10121'},\n",
       "    'headquartersAddress': {'language': 'it-IT',\n",
       "     'addressLines': ['PIAZZA SAN CARLO, 156'],\n",
       "     'addressNumber': None,\n",
       "     'addressNumberWithinBuilding': None,\n",
       "     'mailRouting': None,\n",
       "     'city': 'TORINO',\n",
       "     'region': 'IT-TO',\n",
       "     'country': 'IT',\n",
       "     'postalCode': '10121'},\n",
       "    'registeredAt': {'id': 'RA000407', 'other': None},\n",
       "    'registeredAs': '00799960158',\n",
       "    'jurisdiction': 'IT',\n",
       "    'category': 'GENERAL',\n",
       "    'legalForm': {'id': 'P418', 'other': None},\n",
       "    'associatedEntity': {'lei': None, 'name': None},\n",
       "    'status': 'ACTIVE',\n",
       "    'expiration': {'date': None, 'reason': None},\n",
       "    'successorEntity': {'lei': None, 'name': None},\n",
       "    'successorEntities': [],\n",
       "    'creationDate': '1925-10-09T23:00:00Z',\n",
       "    'subCategory': None,\n",
       "    'otherAddresses': [],\n",
       "    'eventGroups': []},\n",
       "   'registration': {'initialRegistrationDate': '2012-06-27T06:56:25Z',\n",
       "    'lastUpdateDate': '2024-02-23T07:58:52Z',\n",
       "    'status': 'ISSUED',\n",
       "    'nextRenewalDate': '2025-03-25T23:00:00Z',\n",
       "    'managingLou': '815600EAD78C57FCE690',\n",
       "    'corroborationLevel': 'FULLY_CORROBORATED',\n",
       "    'validatedAt': {'id': 'RA000407', 'other': None},\n",
       "    'validatedAs': '00799960158',\n",
       "    'otherValidationAuthorities': []},\n",
       "   'bic': ['BCITITMMXXX',\n",
       "    'BPCCITM1XXX',\n",
       "    'BPVFITM1XXX',\n",
       "    'FREMITR1XXX',\n",
       "    'INGCITM1XXX',\n",
       "    'MELGIT21XXX'],\n",
       "   'mic': ['IMMH'],\n",
       "   'ocid': None,\n",
       "   'spglobal': ['661063']},\n",
       "  'relationships': {'managing-lou': {'links': {'related': 'https://api.gleif.org/api/v1/lei-records/2W8N8UU78PMDQKZENC08/managing-lou'}},\n",
       "   'lei-issuer': {'links': {'related': 'https://api.gleif.org/api/v1/lei-records/2W8N8UU78PMDQKZENC08/lei-issuer'}},\n",
       "   'field-modifications': {'links': {'related': 'https://api.gleif.org/api/v1/lei-records/2W8N8UU78PMDQKZENC08/field-modifications'}},\n",
       "   'direct-parent': {'links': {'reporting-exception': 'https://api.gleif.org/api/v1/lei-records/2W8N8UU78PMDQKZENC08/direct-parent-reporting-exception'}},\n",
       "   'ultimate-parent': {'links': {'reporting-exception': 'https://api.gleif.org/api/v1/lei-records/2W8N8UU78PMDQKZENC08/ultimate-parent-reporting-exception'}},\n",
       "   'direct-children': {'links': {'relationship-records': 'https://api.gleif.org/api/v1/lei-records/2W8N8UU78PMDQKZENC08/direct-child-relationships',\n",
       "     'related': 'https://api.gleif.org/api/v1/lei-records/2W8N8UU78PMDQKZENC08/direct-children'}},\n",
       "   'ultimate-children': {'links': {'relationship-records': 'https://api.gleif.org/api/v1/lei-records/2W8N8UU78PMDQKZENC08/ultimate-child-relationships',\n",
       "     'related': 'https://api.gleif.org/api/v1/lei-records/2W8N8UU78PMDQKZENC08/ultimate-children'}},\n",
       "   'branches': {'links': {'relationship-records': 'https://api.gleif.org/api/v1/lei-records/2W8N8UU78PMDQKZENC08/branch-relationships',\n",
       "     'related': 'https://api.gleif.org/api/v1/lei-records/2W8N8UU78PMDQKZENC08/branches'}},\n",
       "   'isins': {'links': {'related': 'https://api.gleif.org/api/v1/lei-records/2W8N8UU78PMDQKZENC08/isins'}}},\n",
       "  'links': {'self': 'https://api.gleif.org/api/v1/lei-records/2W8N8UU78PMDQKZENC08'}}}"
      ]
     },
     "execution_count": 25,
     "metadata": {},
     "output_type": "execute_result"
    }
   ],
   "source": [
    "session_json.json()"
   ]
  },
  {
   "cell_type": "markdown",
   "metadata": {},
   "source": [
    "Let's suppose we want to know the <b>company name</b> and <b>legal address country</b>."
   ]
  },
  {
   "cell_type": "code",
   "execution_count": null,
   "metadata": {},
   "outputs": [],
   "source": []
  },
  {
   "cell_type": "code",
   "execution_count": 16,
   "metadata": {},
   "outputs": [],
   "source": [
    "df = pd.merge(issuances_df, holdings_df, on='isin') "
   ]
  },
  {
   "cell_type": "code",
   "execution_count": 17,
   "metadata": {},
   "outputs": [
    {
     "data": {
      "text/html": [
       "<div>\n",
       "<style scoped>\n",
       "    .dataframe tbody tr th:only-of-type {\n",
       "        vertical-align: middle;\n",
       "    }\n",
       "\n",
       "    .dataframe tbody tr th {\n",
       "        vertical-align: top;\n",
       "    }\n",
       "\n",
       "    .dataframe thead th {\n",
       "        text-align: right;\n",
       "    }\n",
       "</style>\n",
       "<table border=\"1\" class=\"dataframe\">\n",
       "  <thead>\n",
       "    <tr style=\"text-align: right;\">\n",
       "      <th></th>\n",
       "      <th>isin</th>\n",
       "      <th>issue_date</th>\n",
       "      <th>publication_price</th>\n",
       "      <th>volume</th>\n",
       "      <th>market_capitalization</th>\n",
       "      <th>issuer_lei</th>\n",
       "      <th>holder_lei</th>\n",
       "    </tr>\n",
       "  </thead>\n",
       "  <tbody>\n",
       "    <tr>\n",
       "      <th>0</th>\n",
       "      <td>LV8029671369</td>\n",
       "      <td>17/01/2023</td>\n",
       "      <td>0.000</td>\n",
       "      <td>4003448</td>\n",
       "      <td>0.000</td>\n",
       "      <td>2138006HP23N8GYS9Q88</td>\n",
       "      <td>815600311DA821549008</td>\n",
       "    </tr>\n",
       "    <tr>\n",
       "      <th>1</th>\n",
       "      <td>LV8029671369</td>\n",
       "      <td>17/01/2023</td>\n",
       "      <td>0.000</td>\n",
       "      <td>4003448</td>\n",
       "      <td>0.000</td>\n",
       "      <td>2138006HP23N8GYS9Q88</td>\n",
       "      <td>213800WR5NOVOEYFLN72</td>\n",
       "    </tr>\n",
       "    <tr>\n",
       "      <th>2</th>\n",
       "      <td>LV8029671369</td>\n",
       "      <td>17/01/2023</td>\n",
       "      <td>0.000</td>\n",
       "      <td>4003448</td>\n",
       "      <td>0.000</td>\n",
       "      <td>2138006HP23N8GYS9Q88</td>\n",
       "      <td>529900V9M5N0BGGB2Z36</td>\n",
       "    </tr>\n",
       "    <tr>\n",
       "      <th>3</th>\n",
       "      <td>LV8029671369</td>\n",
       "      <td>17/01/2023</td>\n",
       "      <td>0.000</td>\n",
       "      <td>4003448</td>\n",
       "      <td>0.000</td>\n",
       "      <td>2138006HP23N8GYS9Q88</td>\n",
       "      <td>529900U28ZJDY22FJA32</td>\n",
       "    </tr>\n",
       "    <tr>\n",
       "      <th>4</th>\n",
       "      <td>GB9433873554</td>\n",
       "      <td>13/12/2022</td>\n",
       "      <td>0.000</td>\n",
       "      <td>401456</td>\n",
       "      <td>0.000</td>\n",
       "      <td>635400NPTAOBMC2LW363</td>\n",
       "      <td>529900YHRPQXXQ333M09</td>\n",
       "    </tr>\n",
       "    <tr>\n",
       "      <th>...</th>\n",
       "      <td>...</td>\n",
       "      <td>...</td>\n",
       "      <td>...</td>\n",
       "      <td>...</td>\n",
       "      <td>...</td>\n",
       "      <td>...</td>\n",
       "      <td>...</td>\n",
       "    </tr>\n",
       "    <tr>\n",
       "      <th>1995</th>\n",
       "      <td>SI3034685711</td>\n",
       "      <td>25/01/2019</td>\n",
       "      <td>221.311</td>\n",
       "      <td>32549</td>\n",
       "      <td>7203451.739</td>\n",
       "      <td>549300YX4S1LLSMK2627</td>\n",
       "      <td>549300U08TTKCUFWTC83</td>\n",
       "    </tr>\n",
       "    <tr>\n",
       "      <th>1996</th>\n",
       "      <td>HU8177021197</td>\n",
       "      <td>11/07/2019</td>\n",
       "      <td>246.670</td>\n",
       "      <td>9105</td>\n",
       "      <td>2245930.350</td>\n",
       "      <td>549300DIVO0BXH2SBY91</td>\n",
       "      <td>5493004SYPRAVRVNK561</td>\n",
       "    </tr>\n",
       "    <tr>\n",
       "      <th>1997</th>\n",
       "      <td>HU8177021197</td>\n",
       "      <td>11/07/2019</td>\n",
       "      <td>246.670</td>\n",
       "      <td>9105</td>\n",
       "      <td>2245930.350</td>\n",
       "      <td>549300DIVO0BXH2SBY91</td>\n",
       "      <td>549300711LWQZIF20Y32</td>\n",
       "    </tr>\n",
       "    <tr>\n",
       "      <th>1998</th>\n",
       "      <td>HU8177021197</td>\n",
       "      <td>11/07/2019</td>\n",
       "      <td>246.670</td>\n",
       "      <td>9105</td>\n",
       "      <td>2245930.350</td>\n",
       "      <td>549300DIVO0BXH2SBY91</td>\n",
       "      <td>529900M16K5ETQQEXE12</td>\n",
       "    </tr>\n",
       "    <tr>\n",
       "      <th>1999</th>\n",
       "      <td>HU8177021197</td>\n",
       "      <td>11/07/2019</td>\n",
       "      <td>246.670</td>\n",
       "      <td>9105</td>\n",
       "      <td>2245930.350</td>\n",
       "      <td>549300DIVO0BXH2SBY91</td>\n",
       "      <td>529900BP3CJL3VRPPD14</td>\n",
       "    </tr>\n",
       "  </tbody>\n",
       "</table>\n",
       "<p>2000 rows × 7 columns</p>\n",
       "</div>"
      ],
      "text/plain": [
       "              isin  issue_date  publication_price   volume  \\\n",
       "0     LV8029671369  17/01/2023              0.000  4003448   \n",
       "1     LV8029671369  17/01/2023              0.000  4003448   \n",
       "2     LV8029671369  17/01/2023              0.000  4003448   \n",
       "3     LV8029671369  17/01/2023              0.000  4003448   \n",
       "4     GB9433873554  13/12/2022              0.000   401456   \n",
       "...            ...         ...                ...      ...   \n",
       "1995  SI3034685711  25/01/2019            221.311    32549   \n",
       "1996  HU8177021197  11/07/2019            246.670     9105   \n",
       "1997  HU8177021197  11/07/2019            246.670     9105   \n",
       "1998  HU8177021197  11/07/2019            246.670     9105   \n",
       "1999  HU8177021197  11/07/2019            246.670     9105   \n",
       "\n",
       "      market_capitalization            issuer_lei            holder_lei  \n",
       "0                     0.000  2138006HP23N8GYS9Q88  815600311DA821549008  \n",
       "1                     0.000  2138006HP23N8GYS9Q88  213800WR5NOVOEYFLN72  \n",
       "2                     0.000  2138006HP23N8GYS9Q88  529900V9M5N0BGGB2Z36  \n",
       "3                     0.000  2138006HP23N8GYS9Q88  529900U28ZJDY22FJA32  \n",
       "4                     0.000  635400NPTAOBMC2LW363  529900YHRPQXXQ333M09  \n",
       "...                     ...                   ...                   ...  \n",
       "1995            7203451.739  549300YX4S1LLSMK2627  549300U08TTKCUFWTC83  \n",
       "1996            2245930.350  549300DIVO0BXH2SBY91  5493004SYPRAVRVNK561  \n",
       "1997            2245930.350  549300DIVO0BXH2SBY91  549300711LWQZIF20Y32  \n",
       "1998            2245930.350  549300DIVO0BXH2SBY91  529900M16K5ETQQEXE12  \n",
       "1999            2245930.350  549300DIVO0BXH2SBY91  529900BP3CJL3VRPPD14  \n",
       "\n",
       "[2000 rows x 7 columns]"
      ]
     },
     "execution_count": 17,
     "metadata": {},
     "output_type": "execute_result"
    }
   ],
   "source": [
    "df"
   ]
  },
  {
   "cell_type": "markdown",
   "metadata": {},
   "source": [
    "To collect further information about "
   ]
  },
  {
   "cell_type": "code",
   "execution_count": null,
   "metadata": {},
   "outputs": [],
   "source": []
  },
  {
   "cell_type": "code",
   "execution_count": null,
   "metadata": {},
   "outputs": [],
   "source": []
  },
  {
   "cell_type": "markdown",
   "metadata": {},
   "source": [
    "References:\n",
    "- [^1]() GLEIF API Introduction [https://documenter.getpostman.com/view/7679680/SVYrrxuU?version=latest#intro](https://documenter.getpostman.com/view/7679680/SVYrrxuU?version=latest#intro)\n",
    "-"
   ]
  },
  {
   "cell_type": "markdown",
   "metadata": {},
   "source": []
  }
 ],
 "metadata": {
  "kernelspec": {
   "display_name": "base",
   "language": "python",
   "name": "python3"
  },
  "language_info": {
   "codemirror_mode": {
    "name": "ipython",
    "version": 3
   },
   "file_extension": ".py",
   "mimetype": "text/x-python",
   "name": "python",
   "nbconvert_exporter": "python",
   "pygments_lexer": "ipython3",
   "version": "3.8.5"
  }
 },
 "nbformat": 4,
 "nbformat_minor": 2
}
