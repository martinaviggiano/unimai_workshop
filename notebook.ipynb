{
 "cells": [
  {
   "cell_type": "markdown",
   "metadata": {},
   "source": [
    "# Introduction"
   ]
  },
  {
   "cell_type": "markdown",
   "metadata": {},
   "source": [
    "In this exercise we combine issuances and holdings datasets, and we fetch legal entities Level 2 data using [Gleif API](https://documenter.getpostman.com/view/7679680/SVYrrxuU?version=latest#40ef2ec4-b8bd-46de-8ad5-5359ed828242), to connect corporate dots and simulate a financial markets analysis on defaults. "
   ]
  },
  {
   "cell_type": "markdown",
   "metadata": {},
   "source": [
    "<u>NOTE</u>: The provided datasets *issuances.csv* and *holdings.csv* are composed of artificial data: the ISINs in the first datasets were randomly generated, and instruments were casually assigned to holder companies."
   ]
  },
  {
   "cell_type": "code",
   "execution_count": 2,
   "metadata": {},
   "outputs": [],
   "source": [
    "import pandas as pd\n",
    "import numpy as np"
   ]
  },
  {
   "cell_type": "code",
   "execution_count": 12,
   "metadata": {},
   "outputs": [],
   "source": [
    "issuances_df = pd.read_csv('issuances.csv', sep=';')\n",
    "holdings_df = pd.read_csv('holdings.csv')"
   ]
  },
  {
   "cell_type": "code",
   "execution_count": 16,
   "metadata": {},
   "outputs": [],
   "source": [
    "df = pd.merge(issuances_df, holdings_df, on='isin') "
   ]
  },
  {
   "cell_type": "code",
   "execution_count": 17,
   "metadata": {},
   "outputs": [
    {
     "data": {
      "text/html": [
       "<div>\n",
       "<style scoped>\n",
       "    .dataframe tbody tr th:only-of-type {\n",
       "        vertical-align: middle;\n",
       "    }\n",
       "\n",
       "    .dataframe tbody tr th {\n",
       "        vertical-align: top;\n",
       "    }\n",
       "\n",
       "    .dataframe thead th {\n",
       "        text-align: right;\n",
       "    }\n",
       "</style>\n",
       "<table border=\"1\" class=\"dataframe\">\n",
       "  <thead>\n",
       "    <tr style=\"text-align: right;\">\n",
       "      <th></th>\n",
       "      <th>isin</th>\n",
       "      <th>issue_date</th>\n",
       "      <th>publication_price</th>\n",
       "      <th>volume</th>\n",
       "      <th>market_capitalization</th>\n",
       "      <th>issuer_lei</th>\n",
       "      <th>holder_lei</th>\n",
       "    </tr>\n",
       "  </thead>\n",
       "  <tbody>\n",
       "    <tr>\n",
       "      <th>0</th>\n",
       "      <td>LV8029671369</td>\n",
       "      <td>17/01/2023</td>\n",
       "      <td>0.000</td>\n",
       "      <td>4003448</td>\n",
       "      <td>0.000</td>\n",
       "      <td>2138006HP23N8GYS9Q88</td>\n",
       "      <td>815600311DA821549008</td>\n",
       "    </tr>\n",
       "    <tr>\n",
       "      <th>1</th>\n",
       "      <td>LV8029671369</td>\n",
       "      <td>17/01/2023</td>\n",
       "      <td>0.000</td>\n",
       "      <td>4003448</td>\n",
       "      <td>0.000</td>\n",
       "      <td>2138006HP23N8GYS9Q88</td>\n",
       "      <td>213800WR5NOVOEYFLN72</td>\n",
       "    </tr>\n",
       "    <tr>\n",
       "      <th>2</th>\n",
       "      <td>LV8029671369</td>\n",
       "      <td>17/01/2023</td>\n",
       "      <td>0.000</td>\n",
       "      <td>4003448</td>\n",
       "      <td>0.000</td>\n",
       "      <td>2138006HP23N8GYS9Q88</td>\n",
       "      <td>529900V9M5N0BGGB2Z36</td>\n",
       "    </tr>\n",
       "    <tr>\n",
       "      <th>3</th>\n",
       "      <td>LV8029671369</td>\n",
       "      <td>17/01/2023</td>\n",
       "      <td>0.000</td>\n",
       "      <td>4003448</td>\n",
       "      <td>0.000</td>\n",
       "      <td>2138006HP23N8GYS9Q88</td>\n",
       "      <td>529900U28ZJDY22FJA32</td>\n",
       "    </tr>\n",
       "    <tr>\n",
       "      <th>4</th>\n",
       "      <td>GB9433873554</td>\n",
       "      <td>13/12/2022</td>\n",
       "      <td>0.000</td>\n",
       "      <td>401456</td>\n",
       "      <td>0.000</td>\n",
       "      <td>635400NPTAOBMC2LW363</td>\n",
       "      <td>529900YHRPQXXQ333M09</td>\n",
       "    </tr>\n",
       "    <tr>\n",
       "      <th>...</th>\n",
       "      <td>...</td>\n",
       "      <td>...</td>\n",
       "      <td>...</td>\n",
       "      <td>...</td>\n",
       "      <td>...</td>\n",
       "      <td>...</td>\n",
       "      <td>...</td>\n",
       "    </tr>\n",
       "    <tr>\n",
       "      <th>1995</th>\n",
       "      <td>SI3034685711</td>\n",
       "      <td>25/01/2019</td>\n",
       "      <td>221.311</td>\n",
       "      <td>32549</td>\n",
       "      <td>7203451.739</td>\n",
       "      <td>549300YX4S1LLSMK2627</td>\n",
       "      <td>549300U08TTKCUFWTC83</td>\n",
       "    </tr>\n",
       "    <tr>\n",
       "      <th>1996</th>\n",
       "      <td>HU8177021197</td>\n",
       "      <td>11/07/2019</td>\n",
       "      <td>246.670</td>\n",
       "      <td>9105</td>\n",
       "      <td>2245930.350</td>\n",
       "      <td>549300DIVO0BXH2SBY91</td>\n",
       "      <td>5493004SYPRAVRVNK561</td>\n",
       "    </tr>\n",
       "    <tr>\n",
       "      <th>1997</th>\n",
       "      <td>HU8177021197</td>\n",
       "      <td>11/07/2019</td>\n",
       "      <td>246.670</td>\n",
       "      <td>9105</td>\n",
       "      <td>2245930.350</td>\n",
       "      <td>549300DIVO0BXH2SBY91</td>\n",
       "      <td>549300711LWQZIF20Y32</td>\n",
       "    </tr>\n",
       "    <tr>\n",
       "      <th>1998</th>\n",
       "      <td>HU8177021197</td>\n",
       "      <td>11/07/2019</td>\n",
       "      <td>246.670</td>\n",
       "      <td>9105</td>\n",
       "      <td>2245930.350</td>\n",
       "      <td>549300DIVO0BXH2SBY91</td>\n",
       "      <td>529900M16K5ETQQEXE12</td>\n",
       "    </tr>\n",
       "    <tr>\n",
       "      <th>1999</th>\n",
       "      <td>HU8177021197</td>\n",
       "      <td>11/07/2019</td>\n",
       "      <td>246.670</td>\n",
       "      <td>9105</td>\n",
       "      <td>2245930.350</td>\n",
       "      <td>549300DIVO0BXH2SBY91</td>\n",
       "      <td>529900BP3CJL3VRPPD14</td>\n",
       "    </tr>\n",
       "  </tbody>\n",
       "</table>\n",
       "<p>2000 rows × 7 columns</p>\n",
       "</div>"
      ],
      "text/plain": [
       "              isin  issue_date  publication_price   volume  \\\n",
       "0     LV8029671369  17/01/2023              0.000  4003448   \n",
       "1     LV8029671369  17/01/2023              0.000  4003448   \n",
       "2     LV8029671369  17/01/2023              0.000  4003448   \n",
       "3     LV8029671369  17/01/2023              0.000  4003448   \n",
       "4     GB9433873554  13/12/2022              0.000   401456   \n",
       "...            ...         ...                ...      ...   \n",
       "1995  SI3034685711  25/01/2019            221.311    32549   \n",
       "1996  HU8177021197  11/07/2019            246.670     9105   \n",
       "1997  HU8177021197  11/07/2019            246.670     9105   \n",
       "1998  HU8177021197  11/07/2019            246.670     9105   \n",
       "1999  HU8177021197  11/07/2019            246.670     9105   \n",
       "\n",
       "      market_capitalization            issuer_lei            holder_lei  \n",
       "0                     0.000  2138006HP23N8GYS9Q88  815600311DA821549008  \n",
       "1                     0.000  2138006HP23N8GYS9Q88  213800WR5NOVOEYFLN72  \n",
       "2                     0.000  2138006HP23N8GYS9Q88  529900V9M5N0BGGB2Z36  \n",
       "3                     0.000  2138006HP23N8GYS9Q88  529900U28ZJDY22FJA32  \n",
       "4                     0.000  635400NPTAOBMC2LW363  529900YHRPQXXQ333M09  \n",
       "...                     ...                   ...                   ...  \n",
       "1995            7203451.739  549300YX4S1LLSMK2627  549300U08TTKCUFWTC83  \n",
       "1996            2245930.350  549300DIVO0BXH2SBY91  5493004SYPRAVRVNK561  \n",
       "1997            2245930.350  549300DIVO0BXH2SBY91  549300711LWQZIF20Y32  \n",
       "1998            2245930.350  549300DIVO0BXH2SBY91  529900M16K5ETQQEXE12  \n",
       "1999            2245930.350  549300DIVO0BXH2SBY91  529900BP3CJL3VRPPD14  \n",
       "\n",
       "[2000 rows x 7 columns]"
      ]
     },
     "execution_count": 17,
     "metadata": {},
     "output_type": "execute_result"
    }
   ],
   "source": [
    "df"
   ]
  },
  {
   "cell_type": "code",
   "execution_count": null,
   "metadata": {},
   "outputs": [],
   "source": []
  },
  {
   "cell_type": "code",
   "execution_count": null,
   "metadata": {},
   "outputs": [],
   "source": []
  }
 ],
 "metadata": {
  "kernelspec": {
   "display_name": "base",
   "language": "python",
   "name": "python3"
  },
  "language_info": {
   "codemirror_mode": {
    "name": "ipython",
    "version": 3
   },
   "file_extension": ".py",
   "mimetype": "text/x-python",
   "name": "python",
   "nbconvert_exporter": "python",
   "pygments_lexer": "ipython3",
   "version": "3.8.5"
  }
 },
 "nbformat": 4,
 "nbformat_minor": 2
}
